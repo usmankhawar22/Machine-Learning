{
  "nbformat": 4,
  "nbformat_minor": 0,
  "metadata": {
    "colab": {
      "name": "lab 2 ML .ipynb",
      "provenance": [],
      "authorship_tag": "ABX9TyOUzNFI0t+tYJXBYUvswgoq",
      "include_colab_link": true
    },
    "kernelspec": {
      "name": "python3",
      "display_name": "Python 3"
    }
  },
  "cells": [
    {
      "cell_type": "markdown",
      "metadata": {
        "id": "view-in-github",
        "colab_type": "text"
      },
      "source": [
        "<a href=\"https://colab.research.google.com/github/usmankhawar22/NustEatians/blob/master/lab_2_ML_.ipynb\" target=\"_parent\"><img src=\"https://colab.research.google.com/assets/colab-badge.svg\" alt=\"Open In Colab\"/></a>"
      ]
    },
    {
      "cell_type": "code",
      "metadata": {
        "id": "TwLwJxh23qmh",
        "colab_type": "code",
        "colab": {}
      },
      "source": [
        "# imports\n",
        "import numpy as np\n",
        "import matplotlib.pyplot as plt\n",
        "def generate_data_set(init_seed):\n",
        " \"\"\" Generates Random Data\n",
        " Returns\n",
        " -------\n",
        " x : array-like, shape = [m_samples, n_features]\n",
        " Training samples\n",
        " y : array-like, shape = [m_samples, n_target_values]\n",
        " Target values\n",
        " \"\"\"\n",
        " np.random.seed(init_seed)\n",
        " x = np.random.rand(100, 1)\n",
        " y = 2 + 3 * x + np.random.rand(100, 1)\n",
        " return x, y\n",
        "\n",
        "def predict(x, w):\n",
        " \"\"\" Predicts the value after the model has been trained.\n",
        " Parameters\n",
        " ----------\n",
        " x : array-like, shape = [m_samples, n_features]\n",
        " Test samples\n",
        " Returns\n",
        " -------\n",
        " Predicted values\n",
        " \"\"\"\n",
        " return np.dot(x, w)\n"
      ],
      "execution_count": 0,
      "outputs": []
    },
    {
      "cell_type": "code",
      "metadata": {
        "id": "mvVD-Rgw6u1A",
        "colab_type": "code",
        "outputId": "c747c07d-099f-4460-f48a-b3cc3a3f6122",
        "colab": {
          "base_uri": "https://localhost:8080/",
          "height": 279
        }
      },
      "source": [
        "# generate random data-set\n",
        "x, y = generate_data_set(0)\n",
        "# plot\n",
        "\n",
        "plt.scatter(x,y,s=10)\n",
        "plt.xlabel('x')\n",
        "plt.ylabel('y')\n",
        "plt.show()"
      ],
      "execution_count": 0,
      "outputs": [
        {
          "output_type": "display_data",
          "data": {
            "image/png": "[encoded data removed]",
            "text/plain": [
              "<Figure size 432x288 with 1 Axes>"
            ]
          },
          "metadata": {
            "tags": []
          }
        }
      ]
    },
    {
      "cell_type": "code",
      "metadata": {
        "id": "417t2kOnCBqY",
        "colab_type": "code",
        "colab": {}
      },
      "source": [
        "def fit_GD(x, y, alpha, n_iterations,theta):\n",
        "  \"\"\"Fit the training data\n",
        "  Parameters\n",
        "  ----------\n",
        "  x : array-like, shape = [m_samples, n_features]\n",
        "  Training samples\n",
        "  y : array-like, shape = [m_samples, n_target_values]\n",
        "  Target values\n",
        "  alpha : learning rate\n",
        "  n_iterations : no of iterations\n",
        "  Returns\n",
        "  -------\n",
        "  w_ : parameter vector\n",
        "  cost_ : cost at each iteration\n",
        "  \"\"\"\n",
        "  cost_history = np.zeros(n_iterations)\n",
        "  m=x.shape[0]\n",
        "  #theta = np.random.randn(2,1)\n",
        "\n",
        "\n",
        "  for it in range(n_iterations):\n",
        "        \n",
        "        prediction = np.dot(x_train,theta)\n",
        "\n",
        "        cost = (1/2*m) * np.sum(np.square(prediction-y))\n",
        "        \n",
        "        theta = theta -(1/m)*alpha*( x_train.T.dot((prediction - y)))\n",
        "        \n",
        "        cost_history[it]  = cost\n",
        "\n",
        "\n",
        "\n",
        "  return theta, cost_history"
      ],
      "execution_count": 0,
      "outputs": []
    },
    {
      "cell_type": "code",
      "metadata": {
        "id": "C3_t3pOvM8_V",
        "colab_type": "code",
        "colab": {}
      },
      "source": [
        "# transform the feature vectors to include the bias term\n",
        "# adding 1 to all the instances of the training set.\n",
        "m = x.shape[0]\n",
        "theta = np.random.randn(2,1)\n",
        "x_train = np.c_[np.ones((m, 1)), x]\n",
        "# fit/train the model\n",
        "\n",
        "w, cost_history = fit_GD(x_train, y, 0.05, 1000,theta)\n",
        "\n",
        "#print(w)\n",
        "#print(cost_history)"
      ],
      "execution_count": 0,
      "outputs": []
    },
    {
      "cell_type": "code",
      "metadata": {
        "id": "ks06Eo5CHjFr",
        "colab_type": "code",
        "outputId": "87ca5637-3da3-472e-a1e0-d541e0b1aa8c",
        "colab": {
          "base_uri": "https://localhost:8080/",
          "height": 497
        }
      },
      "source": [
        "fig,ax = plt.subplots(figsize=(18,8))                 #for increasing the size of plots for better visualisation\n",
        "plt.scatter(range(1000), cost_history)\n",
        "plt.xlabel('no. of iterations')\n",
        "plt.ylabel('Cost Function')\n",
        "plt.show()"
      ],
      "execution_count": 0,
      "outputs": [
        {
          "output_type": "display_data",
          "data": {
            "image/png": "[encoded data removed]",
            "text/plain": [
              "<Figure size 1296x576 with 1 Axes>"
            ]
          },
          "metadata": {
            "tags": []
          }
        }
      ]
    },
    {
      "cell_type": "code",
      "metadata": {
        "id": "VbCR7b8lQHSZ",
        "colab_type": "code",
        "colab": {}
      },
      "source": [
        "\n",
        "def rmse(y_predicted, y_actual):\n",
        " \"\"\"Fit the training data\n",
        " Parameters\n",
        " ----------\n",
        " y_predicted : array-like, shape = [m_samples, 1]\n",
        " Predicted output\n",
        " y_actual : array-like, shape = [m_samples, 1]\n",
        " Actual output\n",
        " \n",
        "\n",
        " Returns\n",
        " -------\n",
        " rmse_ : root mean squared error\n",
        " \"\"\"\n",
        " rmsC = np.sqrt((1/m) * np.sum(np.square(y_predicted-y_actual)))\n",
        " return rmsC\n",
        "  \n",
        "\n",
        "\n",
        "\n",
        "\n"
      ],
      "execution_count": 0,
      "outputs": []
    },
    {
      "cell_type": "code",
      "metadata": {
        "id": "9_TN6nDnWLM3",
        "colab_type": "code",
        "outputId": "db228ce7-c14f-4dac-d527-4fb7f1d0f9d3",
        "colab": {
          "base_uri": "https://localhost:8080/",
          "height": 68
        }
      },
      "source": [
        "y_predicted = np.dot(x_train,theta)\n",
        "rmsC=rmse(y_predicted,y)\n",
        "print(\"the Root mean error is\",rmsC)\n",
        "print(\"the values of error are\",theta)\n"
      ],
      "execution_count": 0,
      "outputs": [
        {
          "output_type": "stream",
          "text": [
            "the Root mean error is 3.065195013425769\n",
            "the values of error are [[0.94942081]\n",
            " [0.08755124]]\n"
          ],
          "name": "stdout"
        }
      ]
    },
    {
      "cell_type": "code",
      "metadata": {
        "id": "UmN3QYNcW5TJ",
        "colab_type": "code",
        "outputId": "064a0465-92df-4b11-f060-9e406c569db7",
        "colab": {
          "base_uri": "https://localhost:8080/",
          "height": 279
        }
      },
      "source": [
        "plt.scatter(x,y,s=10)\n",
        "y=predict(x_train,w)\n",
        "plt.plot(x,y)\n",
        "plt.xlabel('x')\n",
        "plt.ylabel('y')\n",
        "plt.show()\n",
        "iters=np.arange(1000)"
      ],
      "execution_count": 0,
      "outputs": [
        {
          "output_type": "display_data",
          "data": {
            "image/png": "[encoded data removed]",
            "text/plain": [
              "<Figure size 432x288 with 1 Axes>"
            ]
          },
          "metadata": {
            "tags": []
          }
        }
      ]
    }
  ]
}