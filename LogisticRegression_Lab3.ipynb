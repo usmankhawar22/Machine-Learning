{
  "nbformat": 4,
  "nbformat_minor": 0,
  "metadata": {
    "anaconda-cloud": {},
    "colab": {
      "name": "LogisticRegression_Lab3.ipynb",
      "provenance": [],
      "collapsed_sections": [],
      "include_colab_link": true
    },
    "kernelspec": {
      "display_name": "Python 3",
      "language": "python",
      "name": "python3"
    },
    "language_info": {
      "codemirror_mode": {
        "name": "ipython",
        "version": 3
      },
      "file_extension": ".py",
      "mimetype": "text/x-python",
      "name": "python",
      "nbconvert_exporter": "python",
      "pygments_lexer": "ipython3",
      "version": "3.5.0"
    }
  },
  "cells": [
    {
      "cell_type": "markdown",
      "metadata": {
        "id": "view-in-github",
        "colab_type": "text"
      },
      "source": [
        "<a href=\"https://colab.research.google.com/github/usmankhawar22/Machine-Learning/blob/master/LogisticRegression_Lab3.ipynb\" target=\"_parent\"><img src=\"https://colab.research.google.com/assets/colab-badge.svg\" alt=\"Open In Colab\"/></a>"
      ]
    },
    {
      "cell_type": "markdown",
      "metadata": {
        "colab_type": "text",
        "id": "k1ceGeXSyYnq"
      },
      "source": [
        "# 1 Logistic Regression\n",
        "In this part of the exercise, you will build a logistic regression model to\n",
        "predict whether a student gets admitted into a university.\n",
        "\n",
        "Suppose that you are the administrator of a university department and\n",
        "you want to determine each applicant's chance of admission based on their\n",
        "results on two exams. You have historical data from previous applicants\n",
        "that you can use as a training set for logistic regression. For each training\n",
        "example, you have the applicant's scores on two exams and the admissions\n",
        "decision.\n",
        "\n",
        "Your task is to build a classication model that estimates an applicant's\n",
        "probability of admission based on the scores from those two exams. \n",
        "\n",
        "## 1.1 Visualization\n",
        "We will start by visualizing the data. The positive and negative examples are shown in different colors/markers."
      ]
    },
    {
      "cell_type": "code",
      "metadata": {
        "colab_type": "code",
        "id": "G-DWktrwyYny",
        "outputId": "24d915e9-c9e8-43f9-f6ca-e4c18a36e650",
        "colab": {
          "base_uri": "https://localhost:8080/",
          "height": 279
        }
      },
      "source": [
        "import numpy as np\n",
        "import matplotlib.pyplot as plt\n",
        "from scipy.optimize import minimize\n",
        "\n",
        "data = np.loadtxt('ex2data1.txt', delimiter=',')\n",
        "\n",
        "m = len(data[:,0])\n",
        "n = len(data[0,:])\n",
        "X = np.ones(shape=(m,n))\n",
        "X[:,1:3] = data[:,0:2]\n",
        "y = data[:,2]\n",
        "\n",
        "plt.scatter(X[np.where(y==1),1], X[np.where(y==1),2], marker = '+', c = 'b')\n",
        "plt.scatter(X[np.where(y==0),1], X[np.where(y==0),2], marker = 'o', c = 'r')\n",
        "plt.xlabel('exam score 1')\n",
        "plt.ylabel('exam score 2')\n",
        "plt.show()"
      ],
      "execution_count": 0,
      "outputs": [
        {
          "output_type": "display_data",
          "data": {
            "image/png": "[encoded data removed]",
            "text/plain": [
              "<Figure size 432x288 with 1 Axes>"
            ]
          },
          "metadata": {
            "tags": []
          }
        }
      ]
    },
    {
      "cell_type": "markdown",
      "metadata": {
        "colab_type": "text",
        "id": "3v0kWawFyYn9"
      },
      "source": [
        "## 1.2 Implementation\n",
        "### 1.2.1 Implement sigmoid function\n",
        "Before you start with the actual cost function, recall that the logistic regres-\n",
        "sion hypothesis is defined as:\n",
        "\\begin{equation}\n",
        "h(x) = g(\\theta^T x)\n",
        "\\end{equation}\n",
        "where function $g$ is the sigmoid function. The sigmoid function is defined as\n",
        "\\begin{equation}\n",
        "g(z) = \\frac{1}{1+e^{-z}}\n",
        "\\end{equation}\n",
        "Your first step is to implement this function below so it can be\n",
        "called by the rest of your program."
      ]
    },
    {
      "cell_type": "code",
      "metadata": {
        "colab_type": "code",
        "id": "M7txz_7DyYn_",
        "colab": {}
      },
      "source": [
        "##TODO Implement the sigmoid function\n",
        "def sigmoid(z):\n",
        "  s = 1./(1+np.exp(-z))\n",
        "  return s"
      ],
      "execution_count": 0,
      "outputs": []
    },
    {
      "cell_type": "markdown",
      "metadata": {
        "colab_type": "text",
        "id": "Fmtb7Wq-yYoH"
      },
      "source": [
        "Visualize the implemented sigmoid function"
      ]
    },
    {
      "cell_type": "code",
      "metadata": {
        "colab_type": "code",
        "id": "3C47THLzyYoK",
        "colab": {}
      },
      "source": [
        "plt.plot(np.arange(-10,10,.1) ,sigmoid(np.arange(-10,10,.1)))\n",
        "plt.show()"
      ],
      "execution_count": 0,
      "outputs": []
    },
    {
      "cell_type": "markdown",
      "metadata": {
        "colab_type": "text",
        "id": "tj4GLrAhyYoV"
      },
      "source": [
        "### 1.2.2 Implement Cost function and Gradient\n",
        "Now you will implement the cost function and gradient for logistic regression. Complete the code in compute_cost and compute_gradient to return the cost and gradient.\n",
        "\n",
        "Recall that the cost function in logistic regression is\n",
        "\\begin{equation}\n",
        "J(\\theta) = - \\frac{1}{m} \\sum_{i=1}^m \\large[ y^{(i)}\\ \\log (h_\\theta (x^{(i)})) + (1 - y^{(i)})\\ \\log (1 - h_\\theta(x^{(i)})) \\large]\n",
        "\\end{equation}\n",
        "and the gradient of the cost is a vector of the same length as $\\theta$ where the $j^{th}$\n",
        "element (for $j = 0,1,\\cdots,n$) is defined as follows:\n",
        "\\begin{equation}\n",
        "\\frac{\\partial J(\\theta)}{\\partial\\theta_j}=\\frac{1}{m} \\sum_{i=1}^m (h_\\theta(x^{(i)}) - y^{(i)}) x_j^{(i)}\n",
        "\\end{equation}"
      ]
    },
    {
      "cell_type": "code",
      "metadata": {
        "colab_type": "code",
        "id": "Y_01YGm2yYoX",
        "colab": {}
      },
      "source": [
        "def compute_cost(theta, X, y):\n",
        "    h = sigmoid(X.dot(theta)).flatten()\n",
        "    c = y*np.log(h) + (1-y)*np.log(1-h)\n",
        "    return -c.sum()/len(y)\n",
        "\n",
        "def compute_gradient(theta, X, y):\n",
        "    #TODO implement the compute_gradient function\n",
        "    h = sigmoid(X.dot(theta)).flatten()\n",
        "    gradient = np.dot(X.T, (h - y)) / y.shape[0]\n",
        "\n",
        "\n",
        "\n",
        "    return gradient"
      ],
      "execution_count": 0,
      "outputs": []
    },
    {
      "cell_type": "markdown",
      "metadata": {
        "colab_type": "text",
        "id": "5IkSLMI2yYog"
      },
      "source": [
        "### 1.2.3 Minimizing cost function\n",
        "In the previous lab, you found the optimal parameters of a linear regression model by implementing gradent descent. You wrote a cost function\n",
        "and calculated its gradient, then took a gradient descent step accordingly.\n",
        "\n",
        "In this lab, we will use a scipy built-in function called [minimize](https://docs.scipy.org/doc/scipy/reference/generated/scipy.optimize.minimize.html#scipy.optimize.minimize).  It will find the best parameters theta for the logistic regression cost function given a fixed dataset (of X and Y values).\n",
        "\n",
        "The parameters of the function are:\n",
        "* function that computes cost\n",
        "* initial theta\n",
        "* arguments tuple\n",
        "* gradient of the cost function\n",
        "\n",
        "Once, minimize has finished finding the optimal $\\theta$, you should see that the cost is about 0.203."
      ]
    },
    {
      "cell_type": "code",
      "metadata": {
        "colab_type": "code",
        "id": "tiu_2DILyYoi",
        "outputId": "975008e3-6ee4-4e28-816b-39efe7c833d4",
        "colab": {
          "base_uri": "https://localhost:8080/",
          "height": 102
        }
      },
      "source": [
        "theta = np.array([0.,0.,0.])\n",
        "res = minimize(fun=compute_cost, x0=theta, args=(X,y), jac=compute_gradient, method='BFGS')\n",
        "compute_cost(res.x, X, y)"
      ],
      "execution_count": 0,
      "outputs": [
        {
          "output_type": "stream",
          "text": [
            "/usr/local/lib/python3.6/dist-packages/ipykernel_launcher.py:3: RuntimeWarning: divide by zero encountered in log\n",
            "  This is separate from the ipykernel package so we can avoid doing imports until\n",
            "/usr/local/lib/python3.6/dist-packages/ipykernel_launcher.py:3: RuntimeWarning: invalid value encountered in multiply\n",
            "  This is separate from the ipykernel package so we can avoid doing imports until\n"
          ],
          "name": "stderr"
        },
        {
          "output_type": "execute_result",
          "data": {
            "text/plain": [
              "0.2034977015894438"
            ]
          },
          "metadata": {
            "tags": []
          },
          "execution_count": 9
        }
      ]
    },
    {
      "cell_type": "markdown",
      "metadata": {
        "colab_type": "text",
        "id": "cX0h0pLcyYov"
      },
      "source": [
        "### 1.2.4 Plotting Decision boundary"
      ]
    },
    {
      "cell_type": "code",
      "metadata": {
        "colab_type": "code",
        "id": "baCf6z4-yYoy",
        "colab": {}
      },
      "source": [
        "def plotDecisionBoundary(theta, X, y):\n",
        "    # Only need 2 points to define a line, so choose two endpoints\n",
        "    plot_x = np.array([np.min(X[:,1])-2,  np.max(X[:,1])+2])\n",
        "    \n",
        "    # Calculate the decision boundary line\n",
        "    plot_y = (-1./theta[2])*(theta[1]*plot_x + theta[0])\n",
        "    \n",
        "    plt.scatter(X[np.where(y==1),1], X[np.where(y==1),2], marker = '+', c = 'b')\n",
        "    plt.scatter(X[np.where(y==0),1], X[np.where(y==0),2], marker = 'o', c = 'r')\n",
        "    plt.plot(plot_x, plot_y, c='y')\n",
        "    plt.show()"
      ],
      "execution_count": 0,
      "outputs": []
    },
    {
      "cell_type": "code",
      "metadata": {
        "colab_type": "code",
        "id": "cL-nvbJtyYo5",
        "outputId": "76a0742a-85b7-4187-b54a-c94278b79d26",
        "colab": {
          "base_uri": "https://localhost:8080/",
          "height": 265
        }
      },
      "source": [
        "plotDecisionBoundary(res.x, X, y)"
      ],
      "execution_count": 0,
      "outputs": [
        {
          "output_type": "display_data",
          "data": {
            "image/png": "[encoded data removed]",
            "text/plain": [
              "<Figure size 432x288 with 1 Axes>"
            ]
          },
          "metadata": {
            "tags": []
          }
        }
      ]
    },
    {
      "cell_type": "markdown",
      "metadata": {
        "colab_type": "text",
        "id": "tUyQC8_0yYpB"
      },
      "source": [
        "### 1.2.5 Evaluating Logistic Regression\n",
        "After learning the parameters, you can use the model to predict whether a\n",
        "particular student will be admitted. For a student with an Exam 1 score\n",
        "of 45 and an Exam 2 score of 85, you should expect to see an admission\n",
        "probability of 0.776."
      ]
    },
    {
      "cell_type": "code",
      "metadata": {
        "colab_type": "code",
        "id": "USCLeS-GyYpD",
        "colab": {}
      },
      "source": [
        "def predict(theta, x):\n",
        "    h = sigmoid(x.dot(theta)).flatten()\n",
        "    return np.array(h)"
      ],
      "execution_count": 0,
      "outputs": []
    },
    {
      "cell_type": "code",
      "metadata": {
        "colab_type": "code",
        "id": "kyFIkdc4yYpP",
        "outputId": "d06e4c66-c363-4267-c895-4b9776016a5c",
        "colab": {
          "base_uri": "https://localhost:8080/",
          "height": 34
        }
      },
      "source": [
        "predict(res.x, np.array([1,45,85]))"
      ],
      "execution_count": 0,
      "outputs": [
        {
          "output_type": "execute_result",
          "data": {
            "text/plain": [
              "array([0.77629072])"
            ]
          },
          "metadata": {
            "tags": []
          },
          "execution_count": 19
        }
      ]
    },
    {
      "cell_type": "markdown",
      "metadata": {
        "colab_type": "text",
        "id": "JloI8UKhhEUS"
      },
      "source": [
        "### 1.2.6 Training Accuracy\n",
        "Now using the learnt model, compute accuracy on the training dataset."
      ]
    },
    {
      "cell_type": "code",
      "metadata": {
        "colab_type": "code",
        "id": "OlHRLG9MaB1q",
        "colab": {}
      },
      "source": [
        "def accuracy(X, actual_classes, probab_threshold=0.5):\n",
        "  #TODO implement the accuracy f\n",
        "\n",
        "  pred=predict(res.x,X)\n",
        " \n",
        "  Y_prediction = []\n",
        "\n",
        "  for i in pred:\n",
        "        \n",
        "\n",
        "\n",
        "      if i >probab_threshold:\n",
        "        Y_prediction.append(1)\n",
        "      else:\n",
        "        Y_prediction.append(0)\n",
        "\n",
        "  \n",
        "  count =0\n",
        "  for i in range(len(actual_classes)):\n",
        "    if Y_prediction[i] == actual_classes[i]:\n",
        "      count += 1\n",
        "  return (count/len(actual_classes) *100)\n",
        "    \n",
        "  "
      ],
      "execution_count": 0,
      "outputs": []
    },
    {
      "cell_type": "code",
      "metadata": {
        "colab_type": "code",
        "id": "yqo8vMfMdaGA",
        "outputId": "77c03df9-4aab-4321-8f0f-82be93e36be5",
        "colab": {
          "base_uri": "https://localhost:8080/",
          "height": 34
        }
      },
      "source": [
        "accuracy(X, y)"
      ],
      "execution_count": 0,
      "outputs": [
        {
          "output_type": "execute_result",
          "data": {
            "text/plain": [
              "89.0"
            ]
          },
          "metadata": {
            "tags": []
          },
          "execution_count": 50
        }
      ]
    }
  ]
}