{
  "nbformat": 4,
  "nbformat_minor": 0,
  "metadata": {
    "colab": {
      "name": "ML_lab6_UK_208775",
      "provenance": [],
      "collapsed_sections": [],
      "include_colab_link": true
    },
    "kernelspec": {
      "name": "python3",
      "display_name": "Python 3"
    }
  },
  "cells": [
    {
      "cell_type": "markdown",
      "metadata": {
        "id": "view-in-github",
        "colab_type": "text"
      },
      "source": [
        "<a href=\"https://colab.research.google.com/github/usmankhawar22/Machine-Learning/blob/master/ML_lab6_UK_208775.ipynb\" target=\"_parent\"><img src=\"https://colab.research.google.com/assets/colab-badge.svg\" alt=\"Open In Colab\"/></a>"
      ]
    },
    {
      "cell_type": "code",
      "metadata": {
        "id": "vIColawdKm8R",
        "colab_type": "code",
        "colab": {}
      },
      "source": [
        ""
      ],
      "execution_count": 0,
      "outputs": []
    },
    {
      "cell_type": "markdown",
      "metadata": {
        "id": "9C3_idAJLj3h",
        "colab_type": "text"
      },
      "source": [
        "https://www.tensorflow.org/tutorials/load_data/numpy\n",
        "\n",
        "https://medium.com/@prasad.pai/how-to-use-dataset-and-iterators-in-tensorflow-with-code-samples-3bb98b6b74ab\n",
        "\n",
        "https://pandas.pydata.org/pandas-docs/stable/reference/api/pandas.read_excel.html\n",
        "\n",
        "https://medium.com/@master_yi/importing-datasets-in-google-colab-c816fc654f97\n",
        "\n",
        "https://pandas.pydata.org/pandas-docs/stable/reference/api/pandas.DataFrame.to_numpy.html\n",
        "\n",
        "https://note.nkmk.me/en/python-pandas-len-shape-size/\n",
        "\n",
        "# task 2\n",
        "\n",
        "# task 2\n",
        "https://keras.io/utils/\n",
        "https://scikit-learn.org/stable/modules/preprocessing.html\n",
        "https://towardsdatascience.com/building-a-deep-learning-model-using-keras-1548ca149d37\n"
      ]
    },
    {
      "cell_type": "code",
      "metadata": {
        "id": "rNm_pP85LlC8",
        "colab_type": "code",
        "outputId": "251a5fa1-6cd6-4303-bf14-ed3cfb873f9f",
        "colab": {
          "base_uri": "https://localhost:8080/",
          "height": 62
        }
      },
      "source": [
        "from __future__ import absolute_import, division, print_function, unicode_literals\n",
        "import functools\n",
        "\n",
        "import numpy as np\n",
        "import tensorflow as tf"
      ],
      "execution_count": 0,
      "outputs": [
        {
          "output_type": "display_data",
          "data": {
            "text/html": [
              "<p style=\"color: red;\">\n",
              "The default version of TensorFlow in Colab will soon switch to TensorFlow 2.x.<br>\n",
              "We recommend you <a href=\"https://www.tensorflow.org/guide/migrate\" target=\"_blank\">upgrade</a> now \n",
              "or ensure your notebook will continue to use TensorFlow 1.x via the <code>%tensorflow_version 1.x</code> magic:\n",
              "<a href=\"https://colab.research.google.com/notebooks/tensorflow_version.ipynb\" target=\"_blank\">more info</a>.</p>\n"
            ],
            "text/plain": [
              "<IPython.core.display.HTML object>"
            ]
          },
          "metadata": {
            "tags": []
          }
        }
      ]
    },
    {
      "cell_type": "code",
      "metadata": {
        "id": "h4toJCs1MQfX",
        "colab_type": "code",
        "outputId": "a470f192-2903-430f-bcf1-7c2e3df03a26",
        "colab": {
          "resources": {
            "http://localhost:8080/nbextensions/google.colab/files.js": {
              "data": "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",
              "ok": true,
              "headers": [
                [
                  "content-type",
                  "application/javascript"
                ]
              ],
              "status": 200,
              "status_text": ""
            }
          },
          "base_uri": "https://localhost:8080/",
          "height": 91
        }
      },
      "source": [
        "from google.colab import files\n",
        "uploaded = files.upload()\n"
      ],
      "execution_count": 0,
      "outputs": [
        {
          "output_type": "display_data",
          "data": {
            "text/html": [
              "\n",
              "     <input type=\"file\" id=\"files-cc04b7f6-eed6-4715-b8d1-e191cef0c43d\" name=\"files[]\" multiple disabled />\n",
              "     <output id=\"result-cc04b7f6-eed6-4715-b8d1-e191cef0c43d\">\n",
              "      Upload widget is only available when the cell has been executed in the\n",
              "      current browser session. Please rerun this cell to enable.\n",
              "      </output>\n",
              "      <script src=\"/nbextensions/google.colab/files.js\"></script> "
            ],
            "text/plain": [
              "<IPython.core.display.HTML object>"
            ]
          },
          "metadata": {
            "tags": []
          }
        },
        {
          "output_type": "stream",
          "text": [
            "Saving Tehsil Schools.xlsx to Tehsil Schools.xlsx\n"
          ],
          "name": "stdout"
        }
      ]
    },
    {
      "cell_type": "code",
      "metadata": {
        "id": "1NXagh8sPLLJ",
        "colab_type": "code",
        "colab": {}
      },
      "source": [
        "import pandas as pd\n",
        "\n",
        "#data = pd.read_excel(\"Tehsil Schools.xlsx\").to_numpy()\n",
        "#data.shape\n"
      ],
      "execution_count": 0,
      "outputs": []
    },
    {
      "cell_type": "code",
      "metadata": {
        "id": "yTLyV5ZZSNDY",
        "colab_type": "code",
        "outputId": "f7af51fe-a689-497a-fb33-b4b3457b4f20",
        "colab": {
          "base_uri": "https://localhost:8080/",
          "height": 221
        }
      },
      "source": [
        "print(\"the School with no passed student in grade 10\")\n",
        "for i in range(len(data)):\n",
        "  if(data[i][8]==0):\n",
        "    print(data[i][1])"
      ],
      "execution_count": 0,
      "outputs": [
        {
          "output_type": "stream",
          "text": [
            "the School with no passed student in grade 10\n",
            "GGHS Bara Ghar\n",
            "GGHS Karyal Chak No.17\n",
            "GGHS 14/66\n",
            "GGHS Anand Garh Chak 8\n",
            "GGHS Chander Nager\n",
            "GHS Shahkot College Road\n",
            "GHS Sangla Hill\n",
            "GGHS Hanjali\n",
            "GGHS Badhu Malhi\n",
            "GGHS Islam Nager\n",
            "GGHS kartar Pur\n"
          ],
          "name": "stdout"
        }
      ]
    },
    {
      "cell_type": "code",
      "metadata": {
        "id": "ZPQkCdfqT9aA",
        "colab_type": "code",
        "outputId": "f28ac8e2-70a1-4671-b915-4cf2da090327",
        "colab": {
          "base_uri": "https://localhost:8080/",
          "height": 765
        }
      },
      "source": [
        "print(\"the large sized schools\")\n",
        "count=0\n",
        "for i in range(len(data)):\n",
        "\n",
        "  \n",
        "  if(data[i][6]>=50):\n",
        "    count+=1\n",
        "    print(data[i][1])\n",
        "print(\"the percentage of schools are\",count/len(data)*100)\n"
      ],
      "execution_count": 0,
      "outputs": [
        {
          "output_type": "stream",
          "text": [
            "the large sized schools\n",
            "GGHSS Shahkot\n",
            "GHSS Bara Ghar\n",
            "GGHSS More Khunda\n",
            "GGHSS Sayed Wala\n",
            "GHS Behari Pur\n",
            "GHS Rehan Wala\n",
            "GHS Haft Madar\n",
            "GHS Iqbal Model Bucheki\n",
            "GHS Seni Bar Chak No.7\n",
            "GHS MC Nankana Sahib\n",
            "GHS Karyal Chak No.17\n",
            "GHS Warbutan City\n",
            "GHS Sayed Wala\n",
            "GHS Warburtan Gaon\n",
            "GHS GN NNS\n",
            "GGHS MC NNS\n",
            "GGHS Nankan Sahib\n",
            "GGHSS Ram Nager\n",
            "GGHSS Bucheki\n",
            "GGHS Mandi Faizabad\n",
            "GGHS Binatul Islam Warburtan\n",
            "GHS Mandi Faizabad\n",
            "GHSS More Khunda\n",
            "GHS Wali Pur Bura\n",
            "GHS Karkan\n",
            "GHS Bhuru\n",
            "GHS No.1 Shahkot\n",
            "GHS Abu Ul Khair Shahkot\n",
            "GHS Nathu Wala\n",
            "GHS Dharu Wali\n",
            "GGHS Nathu Wala\n",
            "GGHS Wali Pur Bura\n",
            "GHS Tech. No.1 Sangla Hill\n",
            "GHS Allama Iqbal Sangla Hill\n",
            "GHS Broya 36\n",
            "GHS Ruriana Chak No.31\n",
            "GHS Marh Blochan\n",
            "GHS Marar 42\n",
            "GGHS Broya 36\n",
            "GGHS Tech. Sangla Hill\n",
            "GGHS Bhulair 119\n",
            "GGHS Marh Blochan\n",
            "the percentage of schools are 48.837209302325576\n"
          ],
          "name": "stdout"
        }
      ]
    },
    {
      "cell_type": "code",
      "metadata": {
        "id": "Bf17o9D-VbrL",
        "colab_type": "code",
        "outputId": "17afe210-1bb8-4388-9b4e-dc4c7dce1ca0",
        "colab": {
          "base_uri": "https://localhost:8080/",
          "height": 34
        }
      },
      "source": [
        "\n",
        "dropout=0\n",
        "school=0\n",
        "for i in range(len(data)):\n",
        "\n",
        "  \n",
        "  if(data[i][6]>50 and data[i][12]>=dropout):\n",
        "    dropout= data[i][12]\n",
        "    school=data[i][1]\n",
        "    \n",
        "print(\"the large school with highest droupout is\",school, \"and the dropout percentage is\",dropout)"
      ],
      "execution_count": 0,
      "outputs": [
        {
          "output_type": "stream",
          "text": [
            "the large school with highest droupout is GHSS More Khunda and the dropout percentage is 74.5920745920746\n"
          ],
          "name": "stdout"
        }
      ]
    },
    {
      "cell_type": "markdown",
      "metadata": {
        "id": "4u_-oNfzdhXT",
        "colab_type": "text"
      },
      "source": [
        "# Task2"
      ]
    },
    {
      "cell_type": "code",
      "metadata": {
        "id": "GpFz_5xbdpMY",
        "colab_type": "code",
        "outputId": "681ab43a-ffaf-4ea8-b6e9-716a1754a0b4",
        "colab": {
          "base_uri": "https://localhost:8080/",
          "height": 195
        }
      },
      "source": [
        "dataframe = pd.read_csv('12_irish.csv', delimiter = ';')\n",
        "dataframe.head()"
      ],
      "execution_count": 0,
      "outputs": [
        {
          "output_type": "execute_result",
          "data": {
            "text/html": [
              "<div>\n",
              "<style scoped>\n",
              "    .dataframe tbody tr th:only-of-type {\n",
              "        vertical-align: middle;\n",
              "    }\n",
              "\n",
              "    .dataframe tbody tr th {\n",
              "        vertical-align: top;\n",
              "    }\n",
              "\n",
              "    .dataframe thead th {\n",
              "        text-align: right;\n",
              "    }\n",
              "</style>\n",
              "<table border=\"1\" class=\"dataframe\">\n",
              "  <thead>\n",
              "    <tr style=\"text-align: right;\">\n",
              "      <th></th>\n",
              "      <th>att1</th>\n",
              "      <th>att2</th>\n",
              "      <th>att3</th>\n",
              "      <th>att4</th>\n",
              "      <th>att5</th>\n",
              "      <th>att6</th>\n",
              "      <th>att7</th>\n",
              "      <th>att8</th>\n",
              "      <th>att9</th>\n",
              "      <th>att10</th>\n",
              "      <th>att11</th>\n",
              "      <th>att12</th>\n",
              "      <th>att13</th>\n",
              "      <th>att14</th>\n",
              "      <th>att15</th>\n",
              "      <th>att16</th>\n",
              "      <th>att17</th>\n",
              "      <th>label</th>\n",
              "    </tr>\n",
              "  </thead>\n",
              "  <tbody>\n",
              "    <tr>\n",
              "      <th>0</th>\n",
              "      <td>-1.0</td>\n",
              "      <td>1.0</td>\n",
              "      <td>-1.0</td>\n",
              "      <td>-1.0</td>\n",
              "      <td>1.0</td>\n",
              "      <td>-1.0</td>\n",
              "      <td>-1.0</td>\n",
              "      <td>-1.0</td>\n",
              "      <td>-1.0</td>\n",
              "      <td>-1.0</td>\n",
              "      <td>-1.0</td>\n",
              "      <td>-1.0</td>\n",
              "      <td>-1.0</td>\n",
              "      <td>1.0</td>\n",
              "      <td>-1.0</td>\n",
              "      <td>0.280000</td>\n",
              "      <td>-0.649123</td>\n",
              "      <td>0</td>\n",
              "    </tr>\n",
              "    <tr>\n",
              "      <th>1</th>\n",
              "      <td>-1.0</td>\n",
              "      <td>1.0</td>\n",
              "      <td>-1.0</td>\n",
              "      <td>-1.0</td>\n",
              "      <td>-1.0</td>\n",
              "      <td>-1.0</td>\n",
              "      <td>-1.0</td>\n",
              "      <td>-1.0</td>\n",
              "      <td>1.0</td>\n",
              "      <td>-1.0</td>\n",
              "      <td>-1.0</td>\n",
              "      <td>-1.0</td>\n",
              "      <td>1.0</td>\n",
              "      <td>-1.0</td>\n",
              "      <td>-1.0</td>\n",
              "      <td>-0.040000</td>\n",
              "      <td>-0.649123</td>\n",
              "      <td>0</td>\n",
              "    </tr>\n",
              "    <tr>\n",
              "      <th>2</th>\n",
              "      <td>-1.0</td>\n",
              "      <td>1.0</td>\n",
              "      <td>-1.0</td>\n",
              "      <td>-1.0</td>\n",
              "      <td>-1.0</td>\n",
              "      <td>-1.0</td>\n",
              "      <td>-1.0</td>\n",
              "      <td>-1.0</td>\n",
              "      <td>-1.0</td>\n",
              "      <td>-1.0</td>\n",
              "      <td>-1.0</td>\n",
              "      <td>1.0</td>\n",
              "      <td>-1.0</td>\n",
              "      <td>1.0</td>\n",
              "      <td>-1.0</td>\n",
              "      <td>0.200000</td>\n",
              "      <td>0.789474</td>\n",
              "      <td>1</td>\n",
              "    </tr>\n",
              "    <tr>\n",
              "      <th>3</th>\n",
              "      <td>-1.0</td>\n",
              "      <td>1.0</td>\n",
              "      <td>-1.0</td>\n",
              "      <td>-1.0</td>\n",
              "      <td>-1.0</td>\n",
              "      <td>-1.0</td>\n",
              "      <td>1.0</td>\n",
              "      <td>-1.0</td>\n",
              "      <td>-1.0</td>\n",
              "      <td>-1.0</td>\n",
              "      <td>-1.0</td>\n",
              "      <td>-1.0</td>\n",
              "      <td>-1.0</td>\n",
              "      <td>1.0</td>\n",
              "      <td>-1.0</td>\n",
              "      <td>0.493333</td>\n",
              "      <td>0.368421</td>\n",
              "      <td>0</td>\n",
              "    </tr>\n",
              "    <tr>\n",
              "      <th>4</th>\n",
              "      <td>-1.0</td>\n",
              "      <td>1.0</td>\n",
              "      <td>-1.0</td>\n",
              "      <td>-1.0</td>\n",
              "      <td>-1.0</td>\n",
              "      <td>-1.0</td>\n",
              "      <td>-1.0</td>\n",
              "      <td>1.0</td>\n",
              "      <td>-1.0</td>\n",
              "      <td>-1.0</td>\n",
              "      <td>-1.0</td>\n",
              "      <td>-1.0</td>\n",
              "      <td>-1.0</td>\n",
              "      <td>-1.0</td>\n",
              "      <td>1.0</td>\n",
              "      <td>-0.546667</td>\n",
              "      <td>-1.000000</td>\n",
              "      <td>0</td>\n",
              "    </tr>\n",
              "  </tbody>\n",
              "</table>\n",
              "</div>"
            ],
            "text/plain": [
              "   att1  att2  att3  att4  att5  ...  att14  att15     att16     att17  label\n",
              "0  -1.0   1.0  -1.0  -1.0   1.0  ...    1.0   -1.0  0.280000 -0.649123      0\n",
              "1  -1.0   1.0  -1.0  -1.0  -1.0  ...   -1.0   -1.0 -0.040000 -0.649123      0\n",
              "2  -1.0   1.0  -1.0  -1.0  -1.0  ...    1.0   -1.0  0.200000  0.789474      1\n",
              "3  -1.0   1.0  -1.0  -1.0  -1.0  ...    1.0   -1.0  0.493333  0.368421      0\n",
              "4  -1.0   1.0  -1.0  -1.0  -1.0  ...   -1.0    1.0 -0.546667 -1.000000      0\n",
              "\n",
              "[5 rows x 18 columns]"
            ]
          },
          "metadata": {
            "tags": []
          },
          "execution_count": 13
        }
      ]
    },
    {
      "cell_type": "code",
      "metadata": {
        "id": "Fib11ZXddaGu",
        "colab_type": "code",
        "outputId": "c9919225-72b3-40ce-dce2-7217d54b6879",
        "colab": {
          "base_uri": "https://localhost:8080/",
          "height": 195
        }
      },
      "source": [
        "#create a dataframe with all training data except the target column\n",
        "X = dataframe.drop(columns=['label'])\n",
        "\n",
        "#check that the target variable has been removed\n",
        "X.head()"
      ],
      "execution_count": 0,
      "outputs": [
        {
          "output_type": "execute_result",
          "data": {
            "text/html": [
              "<div>\n",
              "<style scoped>\n",
              "    .dataframe tbody tr th:only-of-type {\n",
              "        vertical-align: middle;\n",
              "    }\n",
              "\n",
              "    .dataframe tbody tr th {\n",
              "        vertical-align: top;\n",
              "    }\n",
              "\n",
              "    .dataframe thead th {\n",
              "        text-align: right;\n",
              "    }\n",
              "</style>\n",
              "<table border=\"1\" class=\"dataframe\">\n",
              "  <thead>\n",
              "    <tr style=\"text-align: right;\">\n",
              "      <th></th>\n",
              "      <th>att1</th>\n",
              "      <th>att2</th>\n",
              "      <th>att3</th>\n",
              "      <th>att4</th>\n",
              "      <th>att5</th>\n",
              "      <th>att6</th>\n",
              "      <th>att7</th>\n",
              "      <th>att8</th>\n",
              "      <th>att9</th>\n",
              "      <th>att10</th>\n",
              "      <th>att11</th>\n",
              "      <th>att12</th>\n",
              "      <th>att13</th>\n",
              "      <th>att14</th>\n",
              "      <th>att15</th>\n",
              "      <th>att16</th>\n",
              "      <th>att17</th>\n",
              "    </tr>\n",
              "  </thead>\n",
              "  <tbody>\n",
              "    <tr>\n",
              "      <th>0</th>\n",
              "      <td>-1.0</td>\n",
              "      <td>1.0</td>\n",
              "      <td>-1.0</td>\n",
              "      <td>-1.0</td>\n",
              "      <td>1.0</td>\n",
              "      <td>-1.0</td>\n",
              "      <td>-1.0</td>\n",
              "      <td>-1.0</td>\n",
              "      <td>-1.0</td>\n",
              "      <td>-1.0</td>\n",
              "      <td>-1.0</td>\n",
              "      <td>-1.0</td>\n",
              "      <td>-1.0</td>\n",
              "      <td>1.0</td>\n",
              "      <td>-1.0</td>\n",
              "      <td>0.280000</td>\n",
              "      <td>-0.649123</td>\n",
              "    </tr>\n",
              "    <tr>\n",
              "      <th>1</th>\n",
              "      <td>-1.0</td>\n",
              "      <td>1.0</td>\n",
              "      <td>-1.0</td>\n",
              "      <td>-1.0</td>\n",
              "      <td>-1.0</td>\n",
              "      <td>-1.0</td>\n",
              "      <td>-1.0</td>\n",
              "      <td>-1.0</td>\n",
              "      <td>1.0</td>\n",
              "      <td>-1.0</td>\n",
              "      <td>-1.0</td>\n",
              "      <td>-1.0</td>\n",
              "      <td>1.0</td>\n",
              "      <td>-1.0</td>\n",
              "      <td>-1.0</td>\n",
              "      <td>-0.040000</td>\n",
              "      <td>-0.649123</td>\n",
              "    </tr>\n",
              "    <tr>\n",
              "      <th>2</th>\n",
              "      <td>-1.0</td>\n",
              "      <td>1.0</td>\n",
              "      <td>-1.0</td>\n",
              "      <td>-1.0</td>\n",
              "      <td>-1.0</td>\n",
              "      <td>-1.0</td>\n",
              "      <td>-1.0</td>\n",
              "      <td>-1.0</td>\n",
              "      <td>-1.0</td>\n",
              "      <td>-1.0</td>\n",
              "      <td>-1.0</td>\n",
              "      <td>1.0</td>\n",
              "      <td>-1.0</td>\n",
              "      <td>1.0</td>\n",
              "      <td>-1.0</td>\n",
              "      <td>0.200000</td>\n",
              "      <td>0.789474</td>\n",
              "    </tr>\n",
              "    <tr>\n",
              "      <th>3</th>\n",
              "      <td>-1.0</td>\n",
              "      <td>1.0</td>\n",
              "      <td>-1.0</td>\n",
              "      <td>-1.0</td>\n",
              "      <td>-1.0</td>\n",
              "      <td>-1.0</td>\n",
              "      <td>1.0</td>\n",
              "      <td>-1.0</td>\n",
              "      <td>-1.0</td>\n",
              "      <td>-1.0</td>\n",
              "      <td>-1.0</td>\n",
              "      <td>-1.0</td>\n",
              "      <td>-1.0</td>\n",
              "      <td>1.0</td>\n",
              "      <td>-1.0</td>\n",
              "      <td>0.493333</td>\n",
              "      <td>0.368421</td>\n",
              "    </tr>\n",
              "    <tr>\n",
              "      <th>4</th>\n",
              "      <td>-1.0</td>\n",
              "      <td>1.0</td>\n",
              "      <td>-1.0</td>\n",
              "      <td>-1.0</td>\n",
              "      <td>-1.0</td>\n",
              "      <td>-1.0</td>\n",
              "      <td>-1.0</td>\n",
              "      <td>1.0</td>\n",
              "      <td>-1.0</td>\n",
              "      <td>-1.0</td>\n",
              "      <td>-1.0</td>\n",
              "      <td>-1.0</td>\n",
              "      <td>-1.0</td>\n",
              "      <td>-1.0</td>\n",
              "      <td>1.0</td>\n",
              "      <td>-0.546667</td>\n",
              "      <td>-1.000000</td>\n",
              "    </tr>\n",
              "  </tbody>\n",
              "</table>\n",
              "</div>"
            ],
            "text/plain": [
              "   att1  att2  att3  att4  att5  ...  att13  att14  att15     att16     att17\n",
              "0  -1.0   1.0  -1.0  -1.0   1.0  ...   -1.0    1.0   -1.0  0.280000 -0.649123\n",
              "1  -1.0   1.0  -1.0  -1.0  -1.0  ...    1.0   -1.0   -1.0 -0.040000 -0.649123\n",
              "2  -1.0   1.0  -1.0  -1.0  -1.0  ...   -1.0    1.0   -1.0  0.200000  0.789474\n",
              "3  -1.0   1.0  -1.0  -1.0  -1.0  ...   -1.0    1.0   -1.0  0.493333  0.368421\n",
              "4  -1.0   1.0  -1.0  -1.0  -1.0  ...   -1.0   -1.0    1.0 -0.546667 -1.000000\n",
              "\n",
              "[5 rows x 17 columns]"
            ]
          },
          "metadata": {
            "tags": []
          },
          "execution_count": 14
        }
      ]
    },
    {
      "cell_type": "code",
      "metadata": {
        "id": "MDlnRJOfeYav",
        "colab_type": "code",
        "outputId": "7326decd-da84-4d11-cb57-5968fdad2fea",
        "colab": {
          "base_uri": "https://localhost:8080/",
          "height": 195
        }
      },
      "source": [
        "#create a dataframe with only the target column\n",
        "y = dataframe[['label']]\n",
        "\n",
        "#view dataframe\n",
        "y.head()"
      ],
      "execution_count": 0,
      "outputs": [
        {
          "output_type": "execute_result",
          "data": {
            "text/html": [
              "<div>\n",
              "<style scoped>\n",
              "    .dataframe tbody tr th:only-of-type {\n",
              "        vertical-align: middle;\n",
              "    }\n",
              "\n",
              "    .dataframe tbody tr th {\n",
              "        vertical-align: top;\n",
              "    }\n",
              "\n",
              "    .dataframe thead th {\n",
              "        text-align: right;\n",
              "    }\n",
              "</style>\n",
              "<table border=\"1\" class=\"dataframe\">\n",
              "  <thead>\n",
              "    <tr style=\"text-align: right;\">\n",
              "      <th></th>\n",
              "      <th>label</th>\n",
              "    </tr>\n",
              "  </thead>\n",
              "  <tbody>\n",
              "    <tr>\n",
              "      <th>0</th>\n",
              "      <td>0</td>\n",
              "    </tr>\n",
              "    <tr>\n",
              "      <th>1</th>\n",
              "      <td>0</td>\n",
              "    </tr>\n",
              "    <tr>\n",
              "      <th>2</th>\n",
              "      <td>1</td>\n",
              "    </tr>\n",
              "    <tr>\n",
              "      <th>3</th>\n",
              "      <td>0</td>\n",
              "    </tr>\n",
              "    <tr>\n",
              "      <th>4</th>\n",
              "      <td>0</td>\n",
              "    </tr>\n",
              "  </tbody>\n",
              "</table>\n",
              "</div>"
            ],
            "text/plain": [
              "   label\n",
              "0      0\n",
              "1      0\n",
              "2      1\n",
              "3      0\n",
              "4      0"
            ]
          },
          "metadata": {
            "tags": []
          },
          "execution_count": 15
        }
      ]
    },
    {
      "cell_type": "code",
      "metadata": {
        "id": "2_uz2PpAivt-",
        "colab_type": "code",
        "outputId": "ad12dae7-2427-4c34-8d5e-998ff4762143",
        "colab": {
          "base_uri": "https://localhost:8080/",
          "height": 235
        }
      },
      "source": [
        "#standardizing the input feature\n",
        "from sklearn.preprocessing import StandardScaler\n",
        "sc = StandardScaler()\n",
        "X = sc.fit_transform(X)\n",
        "X"
      ],
      "execution_count": 0,
      "outputs": [
        {
          "output_type": "execute_result",
          "data": {
            "text/plain": [
              "array([[-1.00000000e+00,  1.00000000e+00, -3.58703459e-01, ...,\n",
              "        -6.17426489e-01,  8.32076717e-01, -7.33179215e-01],\n",
              "       [-1.00000000e+00,  1.00000000e+00, -3.58703459e-01, ...,\n",
              "        -6.17426489e-01,  5.49191358e-02, -7.33179215e-01],\n",
              "       [-1.00000000e+00,  1.00000000e+00, -3.58703459e-01, ...,\n",
              "        -6.17426489e-01,  6.37787322e-01,  2.01592456e+00],\n",
              "       ...,\n",
              "       [-1.00000000e+00,  1.00000000e+00,  2.78781811e+00, ...,\n",
              "        -6.17426489e-01,  2.06257622e+00, -1.29717411e-01],\n",
              "       [ 1.00000000e+00, -1.00000000e+00,  2.78781811e+00, ...,\n",
              "        -6.17426489e-01,  2.25686562e+00,  1.54656538e+00],\n",
              "       [ 1.00000000e+00, -1.00000000e+00,  2.78781811e+00, ...,\n",
              "        -6.17426489e-01,  2.19210249e+00,  3.15188140e-16]])"
            ]
          },
          "metadata": {
            "tags": []
          },
          "execution_count": 18
        }
      ]
    },
    {
      "cell_type": "code",
      "metadata": {
        "id": "dq5AW29VjMpg",
        "colab_type": "code",
        "colab": {}
      },
      "source": [
        "from sklearn.model_selection import train_test_split\n",
        "X_train, X_test, y_train, y_test = train_test_split(X, y, test_size=0.2)"
      ],
      "execution_count": 0,
      "outputs": []
    },
    {
      "cell_type": "code",
      "metadata": {
        "id": "j4r-SeK2jjht",
        "colab_type": "code",
        "outputId": "337abd8c-cf05-4f46-ace5-a2049e0dec18",
        "colab": {
          "base_uri": "https://localhost:8080/",
          "height": 138
        }
      },
      "source": [
        "from keras.models import Sequential\n",
        "from keras.layers import Dense\n",
        "#create model\n",
        "model = Sequential()\n",
        "\n",
        "#get number of columns in training data\n",
        "n_cols = train_X.shape[1]\n",
        "\n",
        "#add model layers\n",
        "model.add(Dense(10, activation='relu', input_shape=(n_cols,)))\n",
        "model.add(Dense(10, activation='relu'))\n",
        "model.add(Dense(1,activation='sigmoid'))"
      ],
      "execution_count": 0,
      "outputs": [
        {
          "output_type": "stream",
          "text": [
            "WARNING:tensorflow:From /usr/local/lib/python3.6/dist-packages/keras/backend/tensorflow_backend.py:66: The name tf.get_default_graph is deprecated. Please use tf.compat.v1.get_default_graph instead.\n",
            "\n",
            "WARNING:tensorflow:From /usr/local/lib/python3.6/dist-packages/keras/backend/tensorflow_backend.py:541: The name tf.placeholder is deprecated. Please use tf.compat.v1.placeholder instead.\n",
            "\n",
            "WARNING:tensorflow:From /usr/local/lib/python3.6/dist-packages/keras/backend/tensorflow_backend.py:4432: The name tf.random_uniform is deprecated. Please use tf.random.uniform instead.\n",
            "\n"
          ],
          "name": "stdout"
        }
      ]
    },
    {
      "cell_type": "code",
      "metadata": {
        "id": "HyfVUm4RkiAt",
        "colab_type": "code",
        "outputId": "e18e232c-f54d-4f35-b520-d356d492ac23",
        "colab": {
          "base_uri": "https://localhost:8080/",
          "height": 70
        }
      },
      "source": [
        "#compile model using mse as a measure of model performance\n",
        "model.compile(optimizer='adam', loss='mean_squared_error')"
      ],
      "execution_count": 0,
      "outputs": [
        {
          "output_type": "stream",
          "text": [
            "WARNING:tensorflow:From /usr/local/lib/python3.6/dist-packages/keras/optimizers.py:793: The name tf.train.Optimizer is deprecated. Please use tf.compat.v1.train.Optimizer instead.\n",
            "\n"
          ],
          "name": "stdout"
        }
      ]
    },
    {
      "cell_type": "code",
      "metadata": {
        "id": "KkpKY8_RkkA0",
        "colab_type": "code",
        "outputId": "7511e9b9-4bfe-441c-d90c-af11d0c203be",
        "colab": {
          "base_uri": "https://localhost:8080/",
          "height": 1000
        }
      },
      "source": [
        "from keras.callbacks import EarlyStopping\n",
        "#set early stopping monitor so the model stops training when it won't improve anymore\n",
        "early_stopping_monitor = EarlyStopping(patience=3)\n",
        "#train model\n",
        "model.fit(train_X, train_y,batch_size=128, epochs=300, callbacks=[early_stopping_monitor])"
      ],
      "execution_count": 0,
      "outputs": [
        {
          "output_type": "stream",
          "text": [
            "Epoch 1/300\n",
            "500/500 [==============================] - 0s 23us/step - loss: 0.1620\n",
            "Epoch 2/300\n",
            "500/500 [==============================] - 0s 17us/step - loss: 0.1572\n",
            "Epoch 3/300\n",
            "500/500 [==============================] - 0s 18us/step - loss: 0.1523\n",
            "Epoch 4/300\n",
            "500/500 [==============================] - 0s 15us/step - loss: 0.1474\n",
            "Epoch 5/300\n",
            "500/500 [==============================] - 0s 16us/step - loss: 0.1425\n",
            "Epoch 6/300\n",
            "500/500 [==============================] - 0s 15us/step - loss: 0.1378\n",
            "Epoch 7/300\n",
            "500/500 [==============================] - 0s 17us/step - loss: 0.1331\n",
            "Epoch 8/300\n",
            "500/500 [==============================] - 0s 16us/step - loss: 0.1285\n",
            "Epoch 9/300\n",
            "500/500 [==============================] - 0s 16us/step - loss: 0.1237\n",
            "Epoch 10/300\n",
            "500/500 [==============================] - 0s 17us/step - loss: 0.1189\n",
            "Epoch 11/300\n",
            "500/500 [==============================] - 0s 16us/step - loss: 0.1144\n",
            "Epoch 12/300\n",
            "500/500 [==============================] - 0s 18us/step - loss: 0.1099\n",
            "Epoch 13/300\n",
            "500/500 [==============================] - 0s 19us/step - loss: 0.1052\n",
            "Epoch 14/300\n",
            "500/500 [==============================] - 0s 18us/step - loss: 0.1008\n",
            "Epoch 15/300\n",
            "500/500 [==============================] - 0s 17us/step - loss: 0.0964\n",
            "Epoch 16/300\n",
            "500/500 [==============================] - 0s 28us/step - loss: 0.0919\n",
            "Epoch 17/300\n",
            "500/500 [==============================] - 0s 21us/step - loss: 0.0875\n",
            "Epoch 18/300\n",
            "500/500 [==============================] - 0s 22us/step - loss: 0.0834\n",
            "Epoch 19/300\n",
            "500/500 [==============================] - 0s 14us/step - loss: 0.0795\n",
            "Epoch 20/300\n",
            "128/500 [======>.......................] - ETA: 0s - loss: 0.0851\b\b\b\b\b\b\b\b\b\b\b\b\b\b\b\b\b\b\b\b\b\b\b\b\b\b\b\b\b\b\b\b\b\b\b\b\b\b\b\b\b\b\b\b\b\b\b\b\b\b\b\b\b\b\b\b\b\b\b\b\b\b\b\b\b"
          ],
          "name": "stdout"
        },
        {
          "output_type": "stream",
          "text": [
            "/usr/local/lib/python3.6/dist-packages/keras/callbacks.py:842: RuntimeWarning: Early stopping conditioned on metric `val_loss` which is not available. Available metrics are: loss\n",
            "  (self.monitor, ','.join(list(logs.keys()))), RuntimeWarning\n"
          ],
          "name": "stderr"
        },
        {
          "output_type": "stream",
          "text": [
            "500/500 [==============================] - 0s 21us/step - loss: 0.0757\n",
            "Epoch 21/300\n",
            "500/500 [==============================] - 0s 15us/step - loss: 0.0720\n",
            "Epoch 22/300\n",
            "500/500 [==============================] - 0s 13us/step - loss: 0.0684\n",
            "Epoch 23/300\n",
            "500/500 [==============================] - 0s 21us/step - loss: 0.0649\n",
            "Epoch 24/300\n",
            "500/500 [==============================] - 0s 30us/step - loss: 0.0614\n",
            "Epoch 25/300\n",
            "500/500 [==============================] - 0s 17us/step - loss: 0.0581\n",
            "Epoch 26/300\n",
            "500/500 [==============================] - 0s 17us/step - loss: 0.0548\n",
            "Epoch 27/300\n",
            "500/500 [==============================] - 0s 16us/step - loss: 0.0517\n",
            "Epoch 28/300\n",
            "500/500 [==============================] - 0s 16us/step - loss: 0.0488\n",
            "Epoch 29/300\n",
            "500/500 [==============================] - 0s 18us/step - loss: 0.0459\n",
            "Epoch 30/300\n",
            "500/500 [==============================] - 0s 18us/step - loss: 0.0431\n",
            "Epoch 31/300\n",
            "500/500 [==============================] - 0s 15us/step - loss: 0.0405\n",
            "Epoch 32/300\n",
            "500/500 [==============================] - 0s 15us/step - loss: 0.0382\n",
            "Epoch 33/300\n",
            "500/500 [==============================] - 0s 15us/step - loss: 0.0361\n",
            "Epoch 34/300\n",
            "500/500 [==============================] - 0s 14us/step - loss: 0.0343\n",
            "Epoch 35/300\n",
            "500/500 [==============================] - 0s 15us/step - loss: 0.0326\n",
            "Epoch 36/300\n",
            "500/500 [==============================] - 0s 14us/step - loss: 0.0310\n",
            "Epoch 37/300\n",
            "500/500 [==============================] - 0s 13us/step - loss: 0.0295\n",
            "Epoch 38/300\n",
            "500/500 [==============================] - 0s 15us/step - loss: 0.0281\n",
            "Epoch 39/300\n",
            "500/500 [==============================] - 0s 15us/step - loss: 0.0270\n",
            "Epoch 40/300\n",
            "500/500 [==============================] - 0s 17us/step - loss: 0.0260\n",
            "Epoch 41/300\n",
            "500/500 [==============================] - 0s 22us/step - loss: 0.0250\n",
            "Epoch 42/300\n",
            "500/500 [==============================] - 0s 17us/step - loss: 0.0240\n",
            "Epoch 43/300\n",
            "500/500 [==============================] - 0s 17us/step - loss: 0.0233\n",
            "Epoch 44/300\n",
            "500/500 [==============================] - 0s 16us/step - loss: 0.0225\n",
            "Epoch 45/300\n",
            "500/500 [==============================] - 0s 18us/step - loss: 0.0218\n",
            "Epoch 46/300\n",
            "500/500 [==============================] - 0s 17us/step - loss: 0.0212\n",
            "Epoch 47/300\n",
            "500/500 [==============================] - 0s 17us/step - loss: 0.0207\n",
            "Epoch 48/300\n",
            "500/500 [==============================] - 0s 21us/step - loss: 0.0201\n",
            "Epoch 49/300\n",
            "500/500 [==============================] - 0s 18us/step - loss: 0.0196\n",
            "Epoch 50/300\n",
            "500/500 [==============================] - 0s 19us/step - loss: 0.0192\n",
            "Epoch 51/300\n",
            "500/500 [==============================] - 0s 16us/step - loss: 0.0188\n",
            "Epoch 52/300\n",
            "500/500 [==============================] - 0s 16us/step - loss: 0.0184\n",
            "Epoch 53/300\n",
            "500/500 [==============================] - 0s 17us/step - loss: 0.0181\n",
            "Epoch 54/300\n",
            "500/500 [==============================] - 0s 19us/step - loss: 0.0178\n",
            "Epoch 55/300\n",
            "500/500 [==============================] - 0s 17us/step - loss: 0.0175\n",
            "Epoch 56/300\n",
            "500/500 [==============================] - 0s 18us/step - loss: 0.0172\n",
            "Epoch 57/300\n",
            "500/500 [==============================] - 0s 20us/step - loss: 0.0169\n",
            "Epoch 58/300\n",
            "500/500 [==============================] - 0s 20us/step - loss: 0.0167\n",
            "Epoch 59/300\n",
            "500/500 [==============================] - 0s 20us/step - loss: 0.0165\n",
            "Epoch 60/300\n",
            "500/500 [==============================] - 0s 18us/step - loss: 0.0162\n",
            "Epoch 61/300\n",
            "500/500 [==============================] - 0s 16us/step - loss: 0.0160\n",
            "Epoch 62/300\n",
            "500/500 [==============================] - 0s 16us/step - loss: 0.0158\n",
            "Epoch 63/300\n",
            "500/500 [==============================] - 0s 15us/step - loss: 0.0156\n",
            "Epoch 64/300\n",
            "500/500 [==============================] - 0s 16us/step - loss: 0.0155\n",
            "Epoch 65/300\n",
            "500/500 [==============================] - 0s 19us/step - loss: 0.0153\n",
            "Epoch 66/300\n",
            "500/500 [==============================] - 0s 18us/step - loss: 0.0151\n",
            "Epoch 67/300\n",
            "500/500 [==============================] - 0s 22us/step - loss: 0.0150\n",
            "Epoch 68/300\n",
            "500/500 [==============================] - 0s 16us/step - loss: 0.0148\n",
            "Epoch 69/300\n",
            "500/500 [==============================] - 0s 21us/step - loss: 0.0147\n",
            "Epoch 70/300\n",
            "500/500 [==============================] - 0s 17us/step - loss: 0.0146\n",
            "Epoch 71/300\n",
            "500/500 [==============================] - 0s 17us/step - loss: 0.0145\n",
            "Epoch 72/300\n",
            "500/500 [==============================] - 0s 17us/step - loss: 0.0144\n",
            "Epoch 73/300\n",
            "500/500 [==============================] - 0s 18us/step - loss: 0.0143\n",
            "Epoch 74/300\n",
            "500/500 [==============================] - 0s 20us/step - loss: 0.0141\n",
            "Epoch 75/300\n",
            "500/500 [==============================] - 0s 19us/step - loss: 0.0140\n",
            "Epoch 76/300\n",
            "500/500 [==============================] - 0s 17us/step - loss: 0.0140\n",
            "Epoch 77/300\n",
            "500/500 [==============================] - 0s 18us/step - loss: 0.0139\n",
            "Epoch 78/300\n",
            "500/500 [==============================] - 0s 15us/step - loss: 0.0138\n",
            "Epoch 79/300\n",
            "500/500 [==============================] - 0s 17us/step - loss: 0.0137\n",
            "Epoch 80/300\n",
            "500/500 [==============================] - 0s 17us/step - loss: 0.0136\n",
            "Epoch 81/300\n",
            "500/500 [==============================] - 0s 21us/step - loss: 0.0136\n",
            "Epoch 82/300\n",
            "500/500 [==============================] - 0s 18us/step - loss: 0.0135\n",
            "Epoch 83/300\n",
            "500/500 [==============================] - 0s 19us/step - loss: 0.0134\n",
            "Epoch 84/300\n",
            "500/500 [==============================] - 0s 23us/step - loss: 0.0134\n",
            "Epoch 85/300\n",
            "500/500 [==============================] - 0s 19us/step - loss: 0.0133\n",
            "Epoch 86/300\n",
            "500/500 [==============================] - 0s 21us/step - loss: 0.0133\n",
            "Epoch 87/300\n",
            "500/500 [==============================] - 0s 18us/step - loss: 0.0132\n",
            "Epoch 88/300\n",
            "500/500 [==============================] - 0s 18us/step - loss: 0.0132\n",
            "Epoch 89/300\n",
            "500/500 [==============================] - 0s 17us/step - loss: 0.0131\n",
            "Epoch 90/300\n",
            "500/500 [==============================] - 0s 16us/step - loss: 0.0131\n",
            "Epoch 91/300\n",
            "500/500 [==============================] - 0s 16us/step - loss: 0.0130\n",
            "Epoch 92/300\n",
            "500/500 [==============================] - 0s 14us/step - loss: 0.0130\n",
            "Epoch 93/300\n",
            "500/500 [==============================] - 0s 15us/step - loss: 0.0129\n",
            "Epoch 94/300\n",
            "500/500 [==============================] - 0s 17us/step - loss: 0.0129\n",
            "Epoch 95/300\n",
            "500/500 [==============================] - 0s 14us/step - loss: 0.0129\n",
            "Epoch 96/300\n",
            "500/500 [==============================] - 0s 16us/step - loss: 0.0128\n",
            "Epoch 97/300\n",
            "500/500 [==============================] - 0s 17us/step - loss: 0.0128\n",
            "Epoch 98/300\n",
            "500/500 [==============================] - 0s 16us/step - loss: 0.0127\n",
            "Epoch 99/300\n",
            "500/500 [==============================] - 0s 18us/step - loss: 0.0127\n",
            "Epoch 100/300\n",
            "500/500 [==============================] - 0s 15us/step - loss: 0.0127\n",
            "Epoch 101/300\n",
            "500/500 [==============================] - 0s 16us/step - loss: 0.0126\n",
            "Epoch 102/300\n",
            "500/500 [==============================] - 0s 17us/step - loss: 0.0126\n",
            "Epoch 103/300\n",
            "500/500 [==============================] - 0s 20us/step - loss: 0.0126\n",
            "Epoch 104/300\n",
            "500/500 [==============================] - 0s 18us/step - loss: 0.0125\n",
            "Epoch 105/300\n",
            "500/500 [==============================] - 0s 15us/step - loss: 0.0125\n",
            "Epoch 106/300\n",
            "500/500 [==============================] - 0s 17us/step - loss: 0.0125\n",
            "Epoch 107/300\n",
            "500/500 [==============================] - 0s 17us/step - loss: 0.0125\n",
            "Epoch 108/300\n",
            "500/500 [==============================] - 0s 17us/step - loss: 0.0124\n",
            "Epoch 109/300\n",
            "500/500 [==============================] - 0s 20us/step - loss: 0.0124\n",
            "Epoch 110/300\n",
            "500/500 [==============================] - 0s 18us/step - loss: 0.0124\n",
            "Epoch 111/300\n",
            "500/500 [==============================] - 0s 16us/step - loss: 0.0124\n",
            "Epoch 112/300\n",
            "500/500 [==============================] - 0s 22us/step - loss: 0.0123\n",
            "Epoch 113/300\n",
            "500/500 [==============================] - 0s 21us/step - loss: 0.0123\n",
            "Epoch 114/300\n",
            "500/500 [==============================] - 0s 23us/step - loss: 0.0123\n",
            "Epoch 115/300\n",
            "500/500 [==============================] - 0s 15us/step - loss: 0.0123\n",
            "Epoch 116/300\n",
            "500/500 [==============================] - 0s 17us/step - loss: 0.0122\n",
            "Epoch 117/300\n",
            "500/500 [==============================] - 0s 15us/step - loss: 0.0122\n",
            "Epoch 118/300\n",
            "500/500 [==============================] - 0s 14us/step - loss: 0.0122\n",
            "Epoch 119/300\n",
            "500/500 [==============================] - 0s 21us/step - loss: 0.0122\n",
            "Epoch 120/300\n",
            "500/500 [==============================] - 0s 24us/step - loss: 0.0122\n",
            "Epoch 121/300\n",
            "500/500 [==============================] - 0s 17us/step - loss: 0.0122\n",
            "Epoch 122/300\n",
            "500/500 [==============================] - 0s 17us/step - loss: 0.0121\n",
            "Epoch 123/300\n",
            "500/500 [==============================] - 0s 15us/step - loss: 0.0121\n",
            "Epoch 124/300\n",
            "500/500 [==============================] - 0s 15us/step - loss: 0.0121\n",
            "Epoch 125/300\n",
            "500/500 [==============================] - 0s 15us/step - loss: 0.0121\n",
            "Epoch 126/300\n",
            "500/500 [==============================] - 0s 30us/step - loss: 0.0121\n",
            "Epoch 127/300\n",
            "500/500 [==============================] - 0s 20us/step - loss: 0.0121\n",
            "Epoch 128/300\n",
            "500/500 [==============================] - 0s 14us/step - loss: 0.0120\n",
            "Epoch 129/300\n",
            "500/500 [==============================] - 0s 17us/step - loss: 0.0120\n",
            "Epoch 130/300\n",
            "500/500 [==============================] - 0s 21us/step - loss: 0.0120\n",
            "Epoch 131/300\n",
            "500/500 [==============================] - 0s 20us/step - loss: 0.0120\n",
            "Epoch 132/300\n",
            "500/500 [==============================] - 0s 16us/step - loss: 0.0120\n",
            "Epoch 133/300\n",
            "500/500 [==============================] - 0s 17us/step - loss: 0.0120\n",
            "Epoch 134/300\n",
            "500/500 [==============================] - 0s 16us/step - loss: 0.0120\n",
            "Epoch 135/300\n",
            "500/500 [==============================] - 0s 15us/step - loss: 0.0120\n",
            "Epoch 136/300\n",
            "500/500 [==============================] - 0s 18us/step - loss: 0.0119\n",
            "Epoch 137/300\n",
            "500/500 [==============================] - 0s 14us/step - loss: 0.0119\n",
            "Epoch 138/300\n",
            "500/500 [==============================] - 0s 15us/step - loss: 0.0119\n",
            "Epoch 139/300\n",
            "500/500 [==============================] - 0s 15us/step - loss: 0.0119\n",
            "Epoch 140/300\n",
            "500/500 [==============================] - 0s 16us/step - loss: 0.0119\n",
            "Epoch 141/300\n",
            "500/500 [==============================] - 0s 16us/step - loss: 0.0119\n",
            "Epoch 142/300\n",
            "500/500 [==============================] - 0s 15us/step - loss: 0.0119\n",
            "Epoch 143/300\n",
            "500/500 [==============================] - 0s 14us/step - loss: 0.0119\n",
            "Epoch 144/300\n",
            "500/500 [==============================] - 0s 15us/step - loss: 0.0118\n",
            "Epoch 145/300\n",
            "500/500 [==============================] - 0s 17us/step - loss: 0.0118\n",
            "Epoch 146/300\n",
            "500/500 [==============================] - 0s 15us/step - loss: 0.0118\n",
            "Epoch 147/300\n",
            "500/500 [==============================] - 0s 15us/step - loss: 0.0118\n",
            "Epoch 148/300\n",
            "500/500 [==============================] - 0s 15us/step - loss: 0.0118\n",
            "Epoch 149/300\n",
            "500/500 [==============================] - 0s 19us/step - loss: 0.0118\n",
            "Epoch 150/300\n",
            "500/500 [==============================] - 0s 16us/step - loss: 0.0118\n",
            "Epoch 151/300\n",
            "500/500 [==============================] - 0s 17us/step - loss: 0.0118\n",
            "Epoch 152/300\n",
            "500/500 [==============================] - 0s 17us/step - loss: 0.0118\n",
            "Epoch 153/300\n",
            "500/500 [==============================] - 0s 17us/step - loss: 0.0117\n",
            "Epoch 154/300\n",
            "500/500 [==============================] - 0s 19us/step - loss: 0.0117\n",
            "Epoch 155/300\n",
            "500/500 [==============================] - 0s 16us/step - loss: 0.0117\n",
            "Epoch 156/300\n",
            "500/500 [==============================] - 0s 16us/step - loss: 0.0117\n",
            "Epoch 157/300\n",
            "500/500 [==============================] - 0s 13us/step - loss: 0.0117\n",
            "Epoch 158/300\n",
            "500/500 [==============================] - 0s 14us/step - loss: 0.0117\n",
            "Epoch 159/300\n",
            "500/500 [==============================] - 0s 14us/step - loss: 0.0117\n",
            "Epoch 160/300\n",
            "500/500 [==============================] - 0s 16us/step - loss: 0.0117\n",
            "Epoch 161/300\n",
            "500/500 [==============================] - 0s 13us/step - loss: 0.0117\n",
            "Epoch 162/300\n",
            "500/500 [==============================] - 0s 20us/step - loss: 0.0117\n",
            "Epoch 163/300\n",
            "500/500 [==============================] - 0s 20us/step - loss: 0.0117\n",
            "Epoch 164/300\n",
            "500/500 [==============================] - 0s 16us/step - loss: 0.0116\n",
            "Epoch 165/300\n",
            "500/500 [==============================] - 0s 13us/step - loss: 0.0116\n",
            "Epoch 166/300\n",
            "500/500 [==============================] - 0s 18us/step - loss: 0.0116\n",
            "Epoch 167/300\n",
            "500/500 [==============================] - 0s 14us/step - loss: 0.0116\n",
            "Epoch 168/300\n",
            "500/500 [==============================] - 0s 14us/step - loss: 0.0116\n",
            "Epoch 169/300\n",
            "500/500 [==============================] - 0s 19us/step - loss: 0.0116\n",
            "Epoch 170/300\n",
            "500/500 [==============================] - 0s 29us/step - loss: 0.0116\n",
            "Epoch 171/300\n",
            "500/500 [==============================] - 0s 16us/step - loss: 0.0116\n",
            "Epoch 172/300\n",
            "500/500 [==============================] - 0s 18us/step - loss: 0.0116\n",
            "Epoch 173/300\n",
            "500/500 [==============================] - 0s 17us/step - loss: 0.0116\n",
            "Epoch 174/300\n",
            "500/500 [==============================] - 0s 21us/step - loss: 0.0116\n",
            "Epoch 175/300\n",
            "500/500 [==============================] - 0s 17us/step - loss: 0.0116\n",
            "Epoch 176/300\n",
            "500/500 [==============================] - 0s 17us/step - loss: 0.0116\n",
            "Epoch 177/300\n",
            "500/500 [==============================] - 0s 19us/step - loss: 0.0116\n",
            "Epoch 178/300\n",
            "500/500 [==============================] - 0s 20us/step - loss: 0.0116\n",
            "Epoch 179/300\n",
            "500/500 [==============================] - 0s 20us/step - loss: 0.0116\n",
            "Epoch 180/300\n",
            "500/500 [==============================] - 0s 21us/step - loss: 0.0115\n",
            "Epoch 181/300\n",
            "500/500 [==============================] - 0s 20us/step - loss: 0.0115\n",
            "Epoch 182/300\n",
            "500/500 [==============================] - 0s 19us/step - loss: 0.0115\n",
            "Epoch 183/300\n",
            "500/500 [==============================] - 0s 18us/step - loss: 0.0115\n",
            "Epoch 184/300\n",
            "500/500 [==============================] - 0s 17us/step - loss: 0.0115\n",
            "Epoch 185/300\n",
            "500/500 [==============================] - 0s 21us/step - loss: 0.0115\n",
            "Epoch 186/300\n",
            "500/500 [==============================] - 0s 20us/step - loss: 0.0115\n",
            "Epoch 187/300\n",
            "500/500 [==============================] - 0s 15us/step - loss: 0.0115\n",
            "Epoch 188/300\n",
            "500/500 [==============================] - 0s 15us/step - loss: 0.0115\n",
            "Epoch 189/300\n",
            "500/500 [==============================] - 0s 15us/step - loss: 0.0115\n",
            "Epoch 190/300\n",
            "500/500 [==============================] - 0s 14us/step - loss: 0.0115\n",
            "Epoch 191/300\n",
            "500/500 [==============================] - 0s 21us/step - loss: 0.0115\n",
            "Epoch 192/300\n",
            "500/500 [==============================] - 0s 16us/step - loss: 0.0115\n",
            "Epoch 193/300\n",
            "500/500 [==============================] - 0s 16us/step - loss: 0.0115\n",
            "Epoch 194/300\n",
            "500/500 [==============================] - 0s 17us/step - loss: 0.0115\n",
            "Epoch 195/300\n",
            "500/500 [==============================] - 0s 15us/step - loss: 0.0115\n",
            "Epoch 196/300\n",
            "500/500 [==============================] - 0s 19us/step - loss: 0.0115\n",
            "Epoch 197/300\n",
            "500/500 [==============================] - 0s 18us/step - loss: 0.0115\n",
            "Epoch 198/300\n",
            "500/500 [==============================] - 0s 23us/step - loss: 0.0115\n",
            "Epoch 199/300\n",
            "500/500 [==============================] - 0s 24us/step - loss: 0.0115\n",
            "Epoch 200/300\n",
            "500/500 [==============================] - 0s 16us/step - loss: 0.0115\n",
            "Epoch 201/300\n",
            "500/500 [==============================] - 0s 16us/step - loss: 0.0114\n",
            "Epoch 202/300\n",
            "500/500 [==============================] - 0s 16us/step - loss: 0.0114\n",
            "Epoch 203/300\n",
            "500/500 [==============================] - 0s 17us/step - loss: 0.0114\n",
            "Epoch 204/300\n",
            "500/500 [==============================] - 0s 17us/step - loss: 0.0114\n",
            "Epoch 205/300\n",
            "500/500 [==============================] - 0s 17us/step - loss: 0.0114\n",
            "Epoch 206/300\n",
            "500/500 [==============================] - 0s 16us/step - loss: 0.0114\n",
            "Epoch 207/300\n",
            "500/500 [==============================] - 0s 15us/step - loss: 0.0114\n",
            "Epoch 208/300\n",
            "500/500 [==============================] - 0s 16us/step - loss: 0.0114\n",
            "Epoch 209/300\n",
            "500/500 [==============================] - 0s 15us/step - loss: 0.0114\n",
            "Epoch 210/300\n",
            "500/500 [==============================] - 0s 15us/step - loss: 0.0114\n",
            "Epoch 211/300\n",
            "500/500 [==============================] - 0s 14us/step - loss: 0.0114\n",
            "Epoch 212/300\n",
            "500/500 [==============================] - 0s 15us/step - loss: 0.0114\n",
            "Epoch 213/300\n",
            "500/500 [==============================] - 0s 14us/step - loss: 0.0114\n",
            "Epoch 214/300\n",
            "500/500 [==============================] - 0s 16us/step - loss: 0.0114\n",
            "Epoch 215/300\n",
            "500/500 [==============================] - 0s 21us/step - loss: 0.0114\n",
            "Epoch 216/300\n",
            "500/500 [==============================] - 0s 27us/step - loss: 0.0114\n",
            "Epoch 217/300\n",
            "500/500 [==============================] - 0s 18us/step - loss: 0.0114\n",
            "Epoch 218/300\n",
            "500/500 [==============================] - 0s 15us/step - loss: 0.0114\n",
            "Epoch 219/300\n",
            "500/500 [==============================] - 0s 19us/step - loss: 0.0114\n",
            "Epoch 220/300\n",
            "500/500 [==============================] - 0s 18us/step - loss: 0.0114\n",
            "Epoch 221/300\n",
            "500/500 [==============================] - 0s 20us/step - loss: 0.0114\n",
            "Epoch 222/300\n",
            "500/500 [==============================] - 0s 33us/step - loss: 0.0114\n",
            "Epoch 223/300\n",
            "500/500 [==============================] - 0s 23us/step - loss: 0.0114\n",
            "Epoch 224/300\n",
            "500/500 [==============================] - 0s 19us/step - loss: 0.0114\n",
            "Epoch 225/300\n",
            "500/500 [==============================] - 0s 15us/step - loss: 0.0114\n",
            "Epoch 226/300\n",
            "500/500 [==============================] - 0s 20us/step - loss: 0.0114\n",
            "Epoch 227/300\n",
            "500/500 [==============================] - 0s 18us/step - loss: 0.0114\n",
            "Epoch 228/300\n",
            "500/500 [==============================] - 0s 16us/step - loss: 0.0114\n",
            "Epoch 229/300\n",
            "500/500 [==============================] - 0s 18us/step - loss: 0.0114\n",
            "Epoch 230/300\n",
            "500/500 [==============================] - 0s 21us/step - loss: 0.0114\n",
            "Epoch 231/300\n",
            "500/500 [==============================] - 0s 20us/step - loss: 0.0113\n",
            "Epoch 232/300\n",
            "500/500 [==============================] - 0s 19us/step - loss: 0.0113\n",
            "Epoch 233/300\n",
            "500/500 [==============================] - 0s 17us/step - loss: 0.0113\n",
            "Epoch 234/300\n",
            "500/500 [==============================] - 0s 17us/step - loss: 0.0113\n",
            "Epoch 235/300\n",
            "500/500 [==============================] - 0s 17us/step - loss: 0.0113\n",
            "Epoch 236/300\n",
            "500/500 [==============================] - 0s 17us/step - loss: 0.0113\n",
            "Epoch 237/300\n",
            "500/500 [==============================] - 0s 16us/step - loss: 0.0113\n",
            "Epoch 238/300\n",
            "500/500 [==============================] - 0s 15us/step - loss: 0.0113\n",
            "Epoch 239/300\n",
            "500/500 [==============================] - 0s 17us/step - loss: 0.0113\n",
            "Epoch 240/300\n",
            "500/500 [==============================] - 0s 17us/step - loss: 0.0113\n",
            "Epoch 241/300\n",
            "500/500 [==============================] - 0s 16us/step - loss: 0.0113\n",
            "Epoch 242/300\n",
            "500/500 [==============================] - 0s 19us/step - loss: 0.0113\n",
            "Epoch 243/300\n",
            "500/500 [==============================] - 0s 18us/step - loss: 0.0113\n",
            "Epoch 244/300\n",
            "500/500 [==============================] - 0s 17us/step - loss: 0.0113\n",
            "Epoch 245/300\n",
            "500/500 [==============================] - 0s 17us/step - loss: 0.0113\n",
            "Epoch 246/300\n",
            "500/500 [==============================] - 0s 16us/step - loss: 0.0113\n",
            "Epoch 247/300\n",
            "500/500 [==============================] - 0s 18us/step - loss: 0.0113\n",
            "Epoch 248/300\n",
            "500/500 [==============================] - 0s 13us/step - loss: 0.0113\n",
            "Epoch 249/300\n",
            "500/500 [==============================] - 0s 15us/step - loss: 0.0113\n",
            "Epoch 250/300\n",
            "500/500 [==============================] - 0s 17us/step - loss: 0.0113\n",
            "Epoch 251/300\n",
            "500/500 [==============================] - 0s 18us/step - loss: 0.0113\n",
            "Epoch 252/300\n",
            "500/500 [==============================] - 0s 17us/step - loss: 0.0113\n",
            "Epoch 253/300\n",
            "500/500 [==============================] - 0s 15us/step - loss: 0.0113\n",
            "Epoch 254/300\n",
            "500/500 [==============================] - 0s 19us/step - loss: 0.0113\n",
            "Epoch 255/300\n",
            "500/500 [==============================] - 0s 16us/step - loss: 0.0113\n",
            "Epoch 256/300\n",
            "500/500 [==============================] - 0s 15us/step - loss: 0.0113\n",
            "Epoch 257/300\n",
            "500/500 [==============================] - 0s 16us/step - loss: 0.0113\n",
            "Epoch 258/300\n",
            "500/500 [==============================] - 0s 16us/step - loss: 0.0113\n",
            "Epoch 259/300\n",
            "500/500 [==============================] - 0s 15us/step - loss: 0.0113\n",
            "Epoch 260/300\n",
            "500/500 [==============================] - 0s 14us/step - loss: 0.0113\n",
            "Epoch 261/300\n",
            "500/500 [==============================] - 0s 14us/step - loss: 0.0113\n",
            "Epoch 262/300\n",
            "500/500 [==============================] - 0s 14us/step - loss: 0.0113\n",
            "Epoch 263/300\n",
            "500/500 [==============================] - 0s 14us/step - loss: 0.0113\n",
            "Epoch 264/300\n",
            "500/500 [==============================] - 0s 17us/step - loss: 0.0113\n",
            "Epoch 265/300\n",
            "500/500 [==============================] - 0s 15us/step - loss: 0.0113\n",
            "Epoch 266/300\n",
            "500/500 [==============================] - 0s 14us/step - loss: 0.0113\n",
            "Epoch 267/300\n",
            "500/500 [==============================] - 0s 17us/step - loss: 0.0113\n",
            "Epoch 268/300\n",
            "500/500 [==============================] - 0s 17us/step - loss: 0.0113\n",
            "Epoch 269/300\n",
            "500/500 [==============================] - 0s 18us/step - loss: 0.0113\n",
            "Epoch 270/300\n",
            "500/500 [==============================] - 0s 19us/step - loss: 0.0113\n",
            "Epoch 271/300\n",
            "500/500 [==============================] - 0s 17us/step - loss: 0.0112\n",
            "Epoch 272/300\n",
            "500/500 [==============================] - 0s 18us/step - loss: 0.0112\n",
            "Epoch 273/300\n",
            "500/500 [==============================] - 0s 17us/step - loss: 0.0113\n",
            "Epoch 274/300\n",
            "500/500 [==============================] - 0s 17us/step - loss: 0.0112\n",
            "Epoch 275/300\n",
            "500/500 [==============================] - 0s 18us/step - loss: 0.0112\n",
            "Epoch 276/300\n",
            "500/500 [==============================] - 0s 17us/step - loss: 0.0112\n",
            "Epoch 277/300\n",
            "500/500 [==============================] - 0s 14us/step - loss: 0.0112\n",
            "Epoch 278/300\n",
            "500/500 [==============================] - 0s 14us/step - loss: 0.0112\n",
            "Epoch 279/300\n",
            "500/500 [==============================] - 0s 14us/step - loss: 0.0112\n",
            "Epoch 280/300\n",
            "500/500 [==============================] - 0s 13us/step - loss: 0.0112\n",
            "Epoch 281/300\n",
            "500/500 [==============================] - 0s 14us/step - loss: 0.0112\n",
            "Epoch 282/300\n",
            "500/500 [==============================] - 0s 14us/step - loss: 0.0112\n",
            "Epoch 283/300\n",
            "500/500 [==============================] - 0s 25us/step - loss: 0.0112\n",
            "Epoch 284/300\n",
            "500/500 [==============================] - 0s 18us/step - loss: 0.0112\n",
            "Epoch 285/300\n",
            "500/500 [==============================] - 0s 18us/step - loss: 0.0112\n",
            "Epoch 286/300\n",
            "500/500 [==============================] - 0s 18us/step - loss: 0.0112\n",
            "Epoch 287/300\n",
            "500/500 [==============================] - 0s 15us/step - loss: 0.0112\n",
            "Epoch 288/300\n",
            "500/500 [==============================] - 0s 16us/step - loss: 0.0112\n",
            "Epoch 289/300\n",
            "500/500 [==============================] - 0s 15us/step - loss: 0.0112\n",
            "Epoch 290/300\n",
            "500/500 [==============================] - 0s 17us/step - loss: 0.0112\n",
            "Epoch 291/300\n",
            "500/500 [==============================] - 0s 17us/step - loss: 0.0112\n",
            "Epoch 292/300\n",
            "500/500 [==============================] - 0s 16us/step - loss: 0.0112\n",
            "Epoch 293/300\n",
            "500/500 [==============================] - 0s 15us/step - loss: 0.0112\n",
            "Epoch 294/300\n",
            "500/500 [==============================] - 0s 16us/step - loss: 0.0112\n",
            "Epoch 295/300\n",
            "500/500 [==============================] - 0s 15us/step - loss: 0.0112\n",
            "Epoch 296/300\n",
            "500/500 [==============================] - 0s 16us/step - loss: 0.0112\n",
            "Epoch 297/300\n",
            "500/500 [==============================] - 0s 17us/step - loss: 0.0112\n",
            "Epoch 298/300\n",
            "500/500 [==============================] - 0s 15us/step - loss: 0.0112\n",
            "Epoch 299/300\n",
            "500/500 [==============================] - 0s 16us/step - loss: 0.0112\n",
            "Epoch 300/300\n",
            "500/500 [==============================] - 0s 16us/step - loss: 0.0112\n"
          ],
          "name": "stdout"
        },
        {
          "output_type": "execute_result",
          "data": {
            "text/plain": [
              "<keras.callbacks.History at 0x7f32f3639e80>"
            ]
          },
          "metadata": {
            "tags": []
          },
          "execution_count": 25
        }
      ]
    },
    {
      "cell_type": "code",
      "metadata": {
        "id": "s0k-U1MDlbDH",
        "colab_type": "code",
        "outputId": "5069b8ae-88a4-43e6-9286-f8f7f0fb9128",
        "colab": {
          "base_uri": "https://localhost:8080/",
          "height": 50
        }
      },
      "source": [
        "eval_model=model.evaluate(X_train, y_train)\n",
        "eval_model"
      ],
      "execution_count": 0,
      "outputs": [
        {
          "output_type": "stream",
          "text": [
            "400/400 [==============================] - 0s 102us/step\n"
          ],
          "name": "stdout"
        },
        {
          "output_type": "execute_result",
          "data": {
            "text/plain": [
              "0.014773651324212551"
            ]
          },
          "metadata": {
            "tags": []
          },
          "execution_count": 27
        }
      ]
    },
    {
      "cell_type": "code",
      "metadata": {
        "id": "tH1fQ86ulnao",
        "colab_type": "code",
        "outputId": "01f86f44-6e8e-4fbe-bb66-cb55f866183b",
        "colab": {
          "base_uri": "https://localhost:8080/",
          "height": 50
        }
      },
      "source": [
        "eval_model=model.evaluate(X_test, y_test)\n",
        "eval_model"
      ],
      "execution_count": 0,
      "outputs": [
        {
          "output_type": "stream",
          "text": [
            "100/100 [==============================] - 0s 126us/step\n"
          ],
          "name": "stdout"
        },
        {
          "output_type": "execute_result",
          "data": {
            "text/plain": [
              "0.02352991424500942"
            ]
          },
          "metadata": {
            "tags": []
          },
          "execution_count": 29
        }
      ]
    },
    {
      "cell_type": "code",
      "metadata": {
        "id": "9DDvjCWTn7Df",
        "colab_type": "code",
        "outputId": "17c8fb59-e6ba-4bec-f3ef-b472a7c7f3d6",
        "colab": {
          "base_uri": "https://localhost:8080/",
          "height": 294
        }
      },
      "source": [
        "import matplotlib.pyplot as plt\n",
        "\n",
        "plt.plot(X,label = \"Actual\")\n",
        "\n",
        "plt.legend()\n",
        "plt.show()"
      ],
      "execution_count": 0,
      "outputs": [
        {
          "output_type": "display_data",
          "data": {
            "image/png": "[encoded data removed]",
            "text/plain": [
              "<Figure size 432x288 with 1 Axes>"
            ]
          },
          "metadata": {
            "tags": []
          }
        }
      ]
    }
  ]
}