{
  "nbformat": 4,
  "nbformat_minor": 0,
  "metadata": {
    "kernelspec": {
      "display_name": "Python 3",
      "language": "python",
      "name": "python3"
    },
    "language_info": {
      "codemirror_mode": {
        "name": "ipython",
        "version": 3
      },
      "file_extension": ".py",
      "mimetype": "text/x-python",
      "name": "python",
      "nbconvert_exporter": "python",
      "pygments_lexer": "ipython3",
      "version": "3.6.8"
    },
    "colab": {
      "name": "Lab4_UK_208775.ipynb",
      "provenance": [],
      "collapsed_sections": [],
      "include_colab_link": true
    }
  },
  "cells": [
    {
      "cell_type": "markdown",
      "metadata": {
        "id": "view-in-github",
        "colab_type": "text"
      },
      "source": [
        "<a href=\"https://colab.research.google.com/github/usmankhawar22/Machine-Learning/blob/master/Lab4_UK_208775.ipynb\" target=\"_parent\"><img src=\"https://colab.research.google.com/assets/colab-badge.svg\" alt=\"Open In Colab\"/></a>"
      ]
    },
    {
      "cell_type": "markdown",
      "metadata": {
        "id": "A-Eg4QCa9-ft",
        "colab_type": "text"
      },
      "source": [
        "# Task 1"
      ]
    },
    {
      "cell_type": "code",
      "metadata": {
        "id": "uvd-mnaW9-f1",
        "colab_type": "code",
        "colab": {},
        "outputId": "0ba145ff-9de0-4ab8-9059-55225f475df6"
      },
      "source": [
        "import numpy as np\n",
        "\n",
        "# sigmoid function\n",
        "def nonlin(x,deriv=False):\n",
        "    if(deriv==True):\n",
        "        return x*(1-x)\n",
        "    return 1/(1+np.exp(-x))\n",
        "    \n",
        "# input dataset\n",
        "X = np.array([  [0,0,1],\n",
        "                [0,1,1],\n",
        "                [1,0,1],\n",
        "                [1,1,1] ])\n",
        "    \n",
        "# output dataset            \n",
        "y = np.array([[0,0,1,1]]).T\n",
        "\n",
        "# seed random numbers to make calculation\n",
        "# deterministic (just a good practice)\n",
        "np.random.seed(1)\n",
        "\n",
        "# initialize weights randomly with mean 0\n",
        "syn0 = 2*np.random.random((3,1)) - 1\n",
        "\n",
        "for iter in range(10000):\n",
        "\n",
        "    # forward propagation\n",
        "    l0 = X\n",
        "    l1 = nonlin(np.dot(l0,syn0))\n",
        "\n",
        "    # how much did we miss?\n",
        "    l1_error = y - l1\n",
        "    if (iter % 1000) == 0:\n",
        "        print(\"Error:\" + str(np.mean(np.abs(l1_error))))\n",
        "    # multiply how much we missed by the \n",
        "    # slope of the sigmoid at the values in l1\n",
        "    l1_delta = l1_error * nonlin(l1,True)\n",
        "\n",
        "    # update weights\n",
        "    syn0 += np.dot(l0.T,l1_delta)\n",
        "\n",
        "print (\"Output After Training:\")\n",
        "print (l1)\n"
      ],
      "execution_count": 0,
      "outputs": [
        {
          "output_type": "stream",
          "text": [
            "Error:0.5172082754380926\n",
            "Error:0.026070259693142646\n",
            "Error:0.0181554678525527\n",
            "Error:0.014723482568835052\n",
            "Error:0.012699314779145614\n",
            "Error:0.011327232073339398\n",
            "Error:0.010319216334688502\n",
            "Error:0.009538603095349355\n",
            "Error:0.00891115763147092\n",
            "Error:0.008392641900637663\n",
            "Output After Training:\n",
            "[[0.00966449]\n",
            " [0.00786506]\n",
            " [0.99358898]\n",
            " [0.99211957]]\n"
          ],
          "name": "stdout"
        }
      ]
    },
    {
      "cell_type": "markdown",
      "metadata": {
        "id": "T2VsvR1f9-gK",
        "colab_type": "text"
      },
      "source": [
        "# Task 2"
      ]
    },
    {
      "cell_type": "code",
      "metadata": {
        "scrolled": true,
        "id": "yiwIlklJ9-gQ",
        "colab_type": "code",
        "colab": {
          "base_uri": "https://localhost:8080/",
          "height": 202
        },
        "outputId": "8487dc1e-cc0b-484e-bd89-b4d371f9435c"
      },
      "source": [
        "import numpy as np\n",
        "# sigmoid function\n",
        "def nonlin(x,deriv=False):\n",
        "    if(deriv==True):\n",
        "        return x*(1-x)\n",
        "    return 1/(1+np.exp(-x))\n",
        "# input dataset\n",
        "X = np.array([  [0,0,1],\n",
        "[0,1,1],\n",
        "[1,0,1],\n",
        "[1,1,1] ])\n",
        "\n",
        "y = np.array([[0,1,1,0]]).T\n",
        "# set seed\n",
        "np.random.seed(1)\n",
        "# initialize weights\n",
        "syn0 = 2*np.random.random((3,4)) - 1        #4 neurons in the next layer\n",
        "syn1 = 2*np.random.random((4,3)) - 1          # 3 neorons in next layer\n",
        "syn2 = 2*np.random.random((3,1)) - 1          #output layer\n",
        "for j in range(60000):\n",
        "# forward propagation\n",
        "    l0 = X\n",
        "    l1 = nonlin(np.dot(l0,syn0))\n",
        "    l2 = nonlin(np.dot(l1,syn1))\n",
        "    l3 = nonlin(np.dot(l2,syn2))\n",
        "    \n",
        "\n",
        "    # how much did we miss the target value?\n",
        "    \n",
        "    l3_error = y-l3\n",
        "    \n",
        "    if (j% 10000) == 0:\n",
        "        print(\"Error:\" + str(np.mean(np.abs(l3_error))))\n",
        "    \n",
        "    l3_delta = l3_error*nonlin(l3, deriv=True)\n",
        "    \n",
        "    l2_error = l3_delta.dot(syn2.T)\n",
        "\n",
        "    \n",
        "    # in what direction is the target value?\n",
        "    # were we really sure? if so, don't change too much.\n",
        "    l2_delta = l2_error*nonlin(l2,deriv=True)\n",
        "    # how much did each l1 value contribute to the l2 error (according to the weights)?\n",
        "    l1_error = l2_delta.dot(syn1.T)\n",
        "    # in what direction is the target l1?\n",
        "    # were we really sure? if so, don't change too much.\n",
        "    l1_delta = l1_error * nonlin(l1,deriv=True)\n",
        "    syn2 += l2.T.dot(l3_delta)\n",
        "    syn1 += l1.T.dot(l2_delta)\n",
        "    syn0 += l0.T.dot(l1_delta)\n",
        "    \n",
        "print(\"Output After Training:\")\n",
        "print(l3)\n"
      ],
      "execution_count": 17,
      "outputs": [
        {
          "output_type": "stream",
          "text": [
            "Error:0.49891152856875803\n",
            "Error:0.005582339859512456\n",
            "Error:0.003771532088094244\n",
            "Error:0.0030149394938018123\n",
            "Error:0.0025765790370416083\n",
            "Error:0.002282812569060292\n",
            "Output After Training:\n",
            "[[0.00171855]\n",
            " [0.99820493]\n",
            " [0.99766227]\n",
            " [0.00242384]]\n"
          ],
          "name": "stdout"
        }
      ]
    },
    {
      "cell_type": "markdown",
      "metadata": {
        "id": "FZ6LSa4L9-gc",
        "colab_type": "text"
      },
      "source": [
        "# Task 3"
      ]
    },
    {
      "cell_type": "code",
      "metadata": {
        "id": "xWepie3A9-gj",
        "colab_type": "code",
        "colab": {
          "base_uri": "https://localhost:8080/",
          "height": 218
        },
        "outputId": "b5eb19d1-e5dd-4a7d-b2aa-c80b7e64ca27"
      },
      "source": [
        "import numpy as np\n",
        "# sigmoid function\n",
        "def nonlin(x,deriv=False):\n",
        "    if(deriv==True):\n",
        "        return x*(1-x)\n",
        "    return 1/(1+np.exp(-x))\n",
        "# input dataset\n",
        "X = np.array([[0,0,1],\n",
        "[0,1,1],\n",
        "[1,0,1],\n",
        "[1,1,1] ])\n",
        "y = np.array([[0,1], [1,0], [1,0], [0,1]])\n",
        "# set seed\n",
        "np.random.seed(1)\n",
        "# initialize weights\n",
        "syn0 = 2*np.random.random((3,4)) - 1\n",
        "syn1 = 2*np.random.random((4,2)) - 1\n",
        "for j in range(60000):\n",
        "# forward propagation\n",
        "    l0 = X\n",
        "    l1 = nonlin(np.dot(l0,syn0))\n",
        "    l2 = nonlin(np.dot(l1,syn1))         #syn is for activation of previous layer\n",
        "    \n",
        "    # how much did we miss the target value?\n",
        "    l2_error = y - l2\n",
        "\n",
        "    if (j% 10000) == 0:\n",
        "        print(\"Error:\" + str(np.mean(np.abs(l2_error))))\n",
        "    # in what direction is the target value?\n",
        "    # were we really sure? if so, don't change too much.\n",
        "    l2_delta = l2_error*nonlin(l2,deriv=True)\n",
        "    # how much did each l1 value contribute to the l2 error (according to the weights)?\n",
        "    l1_error = l2_delta.dot(syn1.T)\n",
        "    # in what direction is the target l1?\n",
        "    # were we really sure? if so, don't change too much.\n",
        "    l1_delta = l1_error * nonlin(l1,deriv=True)\n",
        "    syn1 += l1.T.dot(l2_delta)\n",
        "    syn0 += l0.T.dot(l1_delta)\n",
        "print(\"Output After Training:\")\n",
        "print(l2)\n",
        "\n",
        "print(np.argmax(l2,axis=1))"
      ],
      "execution_count": 14,
      "outputs": [
        {
          "output_type": "stream",
          "text": [
            "Error:0.49954519056925606\n",
            "Error:0.009627549726006376\n",
            "Error:0.006584574553539306\n",
            "Error:0.005299966814471063\n",
            "Error:0.0045510990523981824\n",
            "Error:0.004047010847593672\n",
            "Output After Training:\n",
            "[[0.00296225 0.99703923]\n",
            " [0.99808538 0.00191443]\n",
            " [0.99522702 0.00477115]\n",
            " [0.00506651 0.99493483]]\n",
            "[1 0 0 1]\n"
          ],
          "name": "stdout"
        }
      ]
    },
    {
      "cell_type": "markdown",
      "metadata": {
        "id": "weh7ObN99-gw",
        "colab_type": "text"
      },
      "source": [
        "# Task 4"
      ]
    },
    {
      "cell_type": "code",
      "metadata": {
        "id": "aNTtxcsi9-gz",
        "colab_type": "code",
        "colab": {
          "base_uri": "https://localhost:8080/",
          "height": 487
        },
        "outputId": "c0300836-918c-4912-e22f-5904505d1d1f"
      },
      "source": [
        "def nonlin(x,deriv=False):\n",
        "    if(deriv==True):\n",
        "        return x*(1-x)\n",
        "    return 1/(1+np.exp(-x))\n",
        "\n",
        "    \n",
        "X = np.arange(0,4.2,0.2).reshape(21,1)\n",
        "\n",
        "y = nonlin(X)\n",
        "\n",
        "np.random.seed(1)\n",
        "\n",
        "# randomly initialize our weights with mean 0\n",
        "syn0 = 2*np.random.random((1,4)) - 1\n",
        "syn1 = 2*np.random.random((4,1)) - 1\n",
        "\n",
        "for j in range(60000):\n",
        "\n",
        "\t# Feed forward through layers 0, 1, and 2\n",
        "    l0 = X\n",
        "    l1 = nonlin(np.dot(l0,syn0))\n",
        "    l2 = nonlin(np.dot(l1,syn1))\n",
        "\n",
        "    # how much did we miss the target value?\n",
        "    l2_error = y - l2\n",
        "    \n",
        "    if (j% 10000) == 0:\n",
        "        print (\"Error:\" + str(np.mean(np.abs(l2_error))))\n",
        "        \n",
        "    # in what direction is the target value?\n",
        "    # were we really sure? if so, don't change too much.\n",
        "    l2_delta = l2_error*nonlin(l2,deriv=True)\n",
        "\n",
        "    # how much did each l1 value contribute to the l2 error (according to the weights)?\n",
        "    l1_error = l2_delta.dot(syn1.T)\n",
        "    \n",
        "    # in what direction is the target l1?\n",
        "    # were we really sure? if so, don't change too much.\n",
        "    l1_delta = l1_error * nonlin(l1,deriv=True)\n",
        "\n",
        "    syn1 += l1.T.dot(l2_delta)\n",
        "    syn0 += l0.T.dot(l1_delta)\n",
        "\n",
        "print (\"Output After Training:\")\n",
        "print (l2)"
      ],
      "execution_count": 27,
      "outputs": [
        {
          "output_type": "stream",
          "text": [
            "Error:0.5712638781131371\n",
            "Error:0.003431160524498867\n",
            "Error:0.002728020863999013\n",
            "Error:0.00524235653624164\n",
            "Error:0.005193616327215113\n",
            "Error:0.0051520520961577795\n",
            "Output After Training:\n",
            "[[0.49706129]\n",
            " [0.55020075]\n",
            " [0.60213523]\n",
            " [0.65170966]\n",
            " [0.69798445]\n",
            " [0.74029482]\n",
            " [0.77826528]\n",
            " [0.81178575]\n",
            " [0.84096259]\n",
            " [0.86605901]\n",
            " [0.88743661]\n",
            " [0.90550554]\n",
            " [0.92068649]\n",
            " [0.93338439]\n",
            " [0.94397252]\n",
            " [0.95278428]\n",
            " [0.96011068]\n",
            " [0.96620137]\n",
            " [0.97126768]\n",
            " [0.97548678]\n",
            " [0.97900614]]\n"
          ],
          "name": "stdout"
        }
      ]
    },
    {
      "cell_type": "markdown",
      "metadata": {
        "id": "g0v1P_xIC9bZ",
        "colab_type": "text"
      },
      "source": [
        "#Task 4 with 3 layers\n"
      ]
    },
    {
      "cell_type": "code",
      "metadata": {
        "id": "XG-7YV1f_n1c",
        "colab_type": "code",
        "colab": {
          "base_uri": "https://localhost:8080/",
          "height": 487
        },
        "outputId": "44484bd2-a243-4294-a712-7268cb3f7782"
      },
      "source": [
        "\n",
        "\n",
        "X = np.arange(0,4.2,0.2).reshape(21,1)\n",
        "\n",
        "y = np.sin(X)\n",
        "\n",
        "np.random.seed(1)\n",
        "\n",
        " \n",
        "\n",
        "# randomly initialize our weights with mean 0\n",
        "\n",
        "syn0 = 2*np.random.random((1,4)) - 1\n",
        "\n",
        "syn1 = 2*np.random.random((4,3)) - 1\n",
        "syn2 = 2*np.random.random((3,1)) - 1\n",
        "\n",
        " \n",
        "\n",
        "for j in range(60000):\n",
        "\n",
        " \n",
        "\n",
        " # forward Propagation\n",
        "  l0 = X\n",
        "  l1 = nonlin(np.dot(l0,syn0))\n",
        "  l2 = nonlin(np.dot(l1,syn1))\n",
        "  l3 = nonlin(np.dot(l2,syn2))\n",
        "  l3_error = y- l3\n",
        "\n",
        "\n",
        "  if (j% 10000) == 0:\n",
        "        print (\"Error:\" + str(np.mean(np.abs(l3_error))))\n",
        "\n",
        "# backward propagation\n",
        "  l3_delta = l3_error*nonlin(l3,deriv=True)  # all errors of that input layer * all derivatives of that input layer \n",
        "  l2_error = l3_delta.dot(syn2.T)\n",
        "  l2_delta = l2_error*nonlin(l2,deriv=True)\n",
        "  l1_error = l2_delta.dot(syn1.T)\n",
        "  l1_delta = l1_error*nonlin(l1,deriv=True)\n",
        "\n",
        "\n",
        "\n",
        "# updating weights\n",
        "  syn0 += l0.T.dot(l1_delta)\n",
        "  syn1 += l1.T.dot(l2_delta)\n",
        "  syn2 += l3.T.dot(l3_delta)\n",
        "# output layer\n",
        "print('Output layer:')\n",
        "print(l3)"
      ],
      "execution_count": 29,
      "outputs": [
        {
          "output_type": "stream",
          "text": [
            "Error:0.455723236655323\n",
            "Error:0.4291838985756019\n",
            "Error:0.39063702527677807\n",
            "Error:0.41646909731185533\n",
            "Error:0.39707783769293153\n",
            "Error:0.3944021885684156\n",
            "Output layer:\n",
            "[[0.54494187]\n",
            " [0.54494187]\n",
            " [0.54494187]\n",
            " [0.54494187]\n",
            " [0.54494186]\n",
            " [0.54494179]\n",
            " [0.54494057]\n",
            " [0.54492669]\n",
            " [0.54480747]\n",
            " [0.54402603]\n",
            " [0.54005598]\n",
            " [0.52458014]\n",
            " [0.47998995]\n",
            " [0.40645292]\n",
            " [0.35480607]\n",
            " [0.33381583]\n",
            " [0.3259588 ]\n",
            " [0.32272194]\n",
            " [0.32121841]\n",
            " [0.3204415 ]\n",
            " [0.32000311]]\n"
          ],
          "name": "stdout"
        }
      ]
    },
    {
      "cell_type": "code",
      "metadata": {
        "id": "pnHfKgOk9-hD",
        "colab_type": "code",
        "colab": {}
      },
      "source": [
        ""
      ],
      "execution_count": 0,
      "outputs": []
    }
  ]
}